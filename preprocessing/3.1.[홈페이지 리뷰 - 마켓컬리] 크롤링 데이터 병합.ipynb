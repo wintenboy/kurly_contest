{
 "cells": [
  {
   "cell_type": "code",
   "execution_count": 10,
   "id": "initial_id",
   "metadata": {
    "ExecuteTime": {
     "end_time": "2023-11-13T16:37:06.414489200Z",
     "start_time": "2023-11-13T16:37:06.377579300Z"
    },
    "collapsed": true
   },
   "outputs": [
    {
     "data": {
      "text/plain": [
       "'C:/Users/kgw57/PycharmProjects/data_contest/review_market/total_reviews_market.csv'"
      ]
     },
     "execution_count": 10,
     "metadata": {},
     "output_type": "execute_result"
    }
   ],
   "source": [
    "import pandas as pd\n",
    "\n",
    "# csv로드\n",
    "files = [\n",
    "    \"C:/Users/kgw57/PycharmProjects/data_contest/review_market/reviews_market_간식_과자_떡.csv\",\n",
    "    \"C:/Users/kgw57/PycharmProjects/data_contest/review_market/reviews_market_과일_견과_쌀.csv\",\n",
    "    \"C:/Users/kgw57/PycharmProjects/data_contest/review_market/reviews_market_국_반찬_메인요리.csv\",\n",
    "    \"C:/Users/kgw57/PycharmProjects/data_contest/review_market/reviews_market_면_양념_오일.csv\",\n",
    "    \"C:/Users/kgw57/PycharmProjects/data_contest/review_market/reviews_market_베이커리_치즈_델리.csv\",\n",
    "    \"C:/Users/kgw57/PycharmProjects/data_contest/review_market/reviews_market_샐러드_간편식.csv\",\n",
    "    \"C:/Users/kgw57/PycharmProjects/data_contest/review_market/reviews_market_생수_음료_우유_커피.csv\",\n",
    "    \"C:/Users/kgw57/PycharmProjects/data_contest/review_market/reviews_market_생활용품_리빙_캠핑.csv\",\n",
    "    \"C:/Users/kgw57/PycharmProjects/data_contest/review_market/reviews_market_수산_해산_건어물.csv\",\n",
    "    \"C:/Users/kgw57/PycharmProjects/data_contest/review_market/reviews_market_정육_계란.csv\"\n",
    "]\n",
    "\n",
    "total_reviews = pd.DataFrame()\n",
    "\n",
    "for file in files:\n",
    "    df = pd.read_csv(file)\n",
    "    total_reviews = pd.concat([total_reviews, df], ignore_index=True)\n",
    "\n",
    "# 저장\n",
    "output_file = \"total_reviews_market.csv\"\n",
    "total_reviews.to_csv(output_file, index=False)\n",
    "\n",
    "output_file"
   ]
  },
  {
   "cell_type": "code",
   "execution_count": 11,
   "id": "8a70a0d1308dec4f",
   "metadata": {
    "ExecuteTime": {
     "end_time": "2023-11-13T16:37:07.097724400Z",
     "start_time": "2023-11-13T16:37:07.069153200Z"
    },
    "collapsed": false
   },
   "outputs": [],
   "source": [
    "# 데이터 로드\n",
    "file_path = \"total_reviews_market.csv\"\n",
    "df = pd.read_csv(file_path)\n",
    "\n",
    "# Likes '도움돼요'제거\n",
    "def transform_likes(value):\n",
    "    parts = value.split()\n",
    "    if len(parts) > 1 and parts[1].isdigit():\n",
    "        return int(parts[1])\n",
    "    else:\n",
    "        return 0\n",
    "\n",
    "df['Likes'] = df['Likes'].apply(transform_likes)\n",
    "\n",
    "df.head(100)\n",
    "\n",
    "output_file = \"total_reviews_market.csv\"\n",
    "df.to_csv(output_file, index=False)"
   ]
  }
 ],
 "metadata": {
  "kernelspec": {
   "display_name": "Python 3",
   "language": "python",
   "name": "python3"
  },
  "language_info": {
   "codemirror_mode": {
    "name": "ipython",
    "version": 2
   },
   "file_extension": ".py",
   "mimetype": "text/x-python",
   "name": "python",
   "nbconvert_exporter": "python",
   "pygments_lexer": "ipython2",
   "version": "2.7.6"
  }
 },
 "nbformat": 4,
 "nbformat_minor": 5
}
