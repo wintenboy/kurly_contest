{
 "cells": [
  {
   "cell_type": "code",
   "execution_count": 30,
   "id": "initial_id",
   "metadata": {
    "ExecuteTime": {
     "end_time": "2023-11-15T13:08:20.333960400Z",
     "start_time": "2023-11-15T13:08:17.871194600Z"
    },
    "collapsed": true
   },
   "outputs": [],
   "source": [
    "import pandas as pd\n",
    "from tqdm import tqdm\n",
    "from kiwipiepy import Kiwi\n",
    "from keybert import KeyBERT\n",
    "from transformers import BertModel\n",
    "\n",
    "# 모델 초기화\n",
    "model = BertModel.from_pretrained('skt/kobert-base-v1')  # 한국어 BERT 모델을 로드합니다.\n",
    "kw_model = KeyBERT(model)  # KeyBERT 모델을 초기화합니다. 이 모델은 키워드 추출에 사용됩니다.\n",
    "kiwi = Kiwi()  # Kiwi 한국어 형태소 분석기를 초기화합니다.\n",
    "\n",
    "# Load the CSV file again\n",
    "data = pd.read_csv('preprocessed_total_reviews_market.csv')\n",
    "\n",
    "# Extracting each row from the 'preprocessed_content' column and storing it in a list\n",
    "content_list = data['preprocessed_content'].tolist()"
   ]
  },
  {
   "cell_type": "code",
   "execution_count": 31,
   "id": "11874760cca85919",
   "metadata": {
    "ExecuteTime": {
     "end_time": "2023-11-15T13:08:35.776011900Z",
     "start_time": "2023-11-15T13:08:20.335953600Z"
    },
    "collapsed": false
   },
   "outputs": [
    {
     "name": "stderr",
     "output_type": "stream",
     "text": [
      "100%|██████████| 1000/1000 [00:15<00:00, 64.85it/s]\n"
     ]
    }
   ],
   "source": [
    "# 명사 추출 함수\n",
    "def noun_extractor(text):\n",
    "    results = []\n",
    "    result = kiwi.analyze(text)  # 텍스트를 분석하여 형태소 분석 결과를 얻습니다.\n",
    "    for token, pos, _, _ in result[0][0]:\n",
    "        if len(token) != 1 and (pos.startswith('N') or pos.startswith('SL')):  # 명사와 외래어를 추출합니다.\n",
    "            results.append(token)\n",
    "    return results\n",
    "\n",
    "# 키워드 추출\n",
    "extracted_keywords = []\n",
    "for text in tqdm(data['content']):  # 데이터의 'content' 열을 순회하며 키워드를 추출합니다.\n",
    "    # 명사 추출\n",
    "    nouns = noun_extractor(text)\n",
    "    after_kiwi_text = ' '.join(nouns)\n",
    "    \n",
    "    # KeyBERT를 사용하여 키워드 추출\n",
    "    keywords = kw_model.extract_keywords(after_kiwi_text, keyphrase_ngram_range=(1, 1), stop_words=None, top_n=3)\n",
    "    extracted_keywords.append(keywords)\n",
    "\n",
    "# 추출된 키워드에서 단어만 추출\n",
    "words_only = [[keyword[0] for keyword in keywords_list] for keywords_list in extracted_keywords]\n",
    "\n",
    "# 'preprocessed_category'와 'preprocessed_productname' 열을 합쳐서 새로운 열 생성\n",
    "data['Extracted_Keywords'] = data['preprocessed_category'] + \" \" + data['preprocessed_productname']\n",
    "\n",
    "# 기존 'hashtags' 열 유지\n",
    "# 'hashtags' 열은 이전과 같이 추출된 키워드를 해시태그 형태로 저장합니다.\n",
    "data['hashtags'] = [' '.join(keyword_list) for keyword_list in words_only]\n",
    "\n",
    "# 나머지 부분은 이전과 동일합니다...\n",
    "\n",
    "# 새로운 DataFrame 열 생성 및 수정\n",
    "data.rename(columns={'like': 'importance'}, inplace=True)\n",
    "\n",
    "# datetime으로 정렬\n",
    "data['datetime'] = pd.to_datetime(data['datetime'])\n",
    "data.sort_values(by='datetime', inplace=True)\n"
   ]
  },
  {
   "cell_type": "code",
   "execution_count": 32,
   "id": "18d408efcf3495a9",
   "metadata": {
    "ExecuteTime": {
     "end_time": "2023-11-15T13:08:35.800369900Z",
     "start_time": "2023-11-15T13:08:35.777008700Z"
    },
    "collapsed": false
   },
   "outputs": [
    {
     "data": {
      "text/html": [
       "<div>\n",
       "<style scoped>\n",
       "    .dataframe tbody tr th:only-of-type {\n",
       "        vertical-align: middle;\n",
       "    }\n",
       "\n",
       "    .dataframe tbody tr th {\n",
       "        vertical-align: top;\n",
       "    }\n",
       "\n",
       "    .dataframe thead th {\n",
       "        text-align: right;\n",
       "    }\n",
       "</style>\n",
       "<table border=\"1\" class=\"dataframe\">\n",
       "  <thead>\n",
       "    <tr style=\"text-align: right;\">\n",
       "      <th></th>\n",
       "      <th>category</th>\n",
       "      <th>productname</th>\n",
       "      <th>content</th>\n",
       "      <th>importance</th>\n",
       "      <th>datetime</th>\n",
       "      <th>preprocessed_category</th>\n",
       "      <th>preprocessed_productname</th>\n",
       "      <th>preprocessed_content</th>\n",
       "      <th>Extracted_Keywords</th>\n",
       "      <th>hashtags</th>\n",
       "    </tr>\n",
       "  </thead>\n",
       "  <tbody>\n",
       "    <tr>\n",
       "      <th>412</th>\n",
       "      <td>베이커리·치즈·델리</td>\n",
       "      <td>[교토마블] 데니쉬 식빵 3종 (택1)</td>\n",
       "      <td>아무 맛도 안 나는 것 같지만 사실 식빵이야말로 빵의 맛을 좌우한다고 믿는 사람으로...</td>\n",
       "      <td>36</td>\n",
       "      <td>2018-09-23</td>\n",
       "      <td>베이커리치즈델리</td>\n",
       "      <td>교토마블 데니쉬 식빵</td>\n",
       "      <td>아무 맛 도 안 나 는 같지만 사실 식빵 이야말로 빵 맛 좌우 한 다 고 믿는 사람...</td>\n",
       "      <td>[베이커리치즈델리, 교토마블, 데니쉬, 식빵]</td>\n",
       "      <td>[치즈, 식빵, 피자]</td>\n",
       "    </tr>\n",
       "    <tr>\n",
       "      <th>872</th>\n",
       "      <td>수산·해산·건어물</td>\n",
       "      <td>[Sea to Table] 손질 생새우살 200g (냉동) (26/30 사이즈)</td>\n",
       "      <td>여러 종류의 새우가 있는데 그 중에서 손질생새우살은 처음 구입해봤습니다.\\n\\n냉동...</td>\n",
       "      <td>15</td>\n",
       "      <td>2019-01-26</td>\n",
       "      <td>수산해산건어물</td>\n",
       "      <td>손질 생새우살 냉동 사이즈</td>\n",
       "      <td>여러 종류 새우 가 있는데 중 에서 손질 생 새우 살 은 처음 구입 해봤습니다 냉동...</td>\n",
       "      <td>[수산해산건어물, 손질, 생새우살, 냉동, 사이즈]</td>\n",
       "      <td>[타면, 신랑, 체다지즈]</td>\n",
       "    </tr>\n",
       "    <tr>\n",
       "      <th>871</th>\n",
       "      <td>수산·해산·건어물</td>\n",
       "      <td>[Sea to Table] 손질 생새우살 200g (냉동) (26/30 사이즈)</td>\n",
       "      <td>감바스 알 아히요 만들어 먹었습니다. \\n냉동되어 있던 것을 뜨거운물에 담가놓으니 ...</td>\n",
       "      <td>33</td>\n",
       "      <td>2019-02-10</td>\n",
       "      <td>수산해산건어물</td>\n",
       "      <td>손질 생새우살 냉동 사이즈</td>\n",
       "      <td>감 바스 알 아히 요 만들어 먹었습니다 냉동 되어 있던 뜨거운 물 에 담가놓으니 금...</td>\n",
       "      <td>[수산해산건어물, 손질, 생새우살, 냉동, 사이즈]</td>\n",
       "      <td>[호밀빵, 치즈, 식빵]</td>\n",
       "    </tr>\n",
       "    <tr>\n",
       "      <th>191</th>\n",
       "      <td>과일·견과·쌀</td>\n",
       "      <td>[항공직송] 칠레산 생 블루베리 2종</td>\n",
       "      <td>(market curly 칠레산블루베리(125g)후기입니다)\\n\\n마켓컬리에서 냉동...</td>\n",
       "      <td>30</td>\n",
       "      <td>2019-02-14</td>\n",
       "      <td>과일견과쌀</td>\n",
       "      <td>항공직송 칠레산 생 블루베리</td>\n",
       "      <td>market curly 칠레 산 블루베리 125 g 후기 입니다 마켓 컬리 에서 냉...</td>\n",
       "      <td>[과일견과쌀, 항공직송, 칠레산, 생, 블루베리]</td>\n",
       "      <td>[마켓컬리, 푸드, 굿굿]</td>\n",
       "    </tr>\n",
       "    <tr>\n",
       "      <th>870</th>\n",
       "      <td>수산·해산·건어물</td>\n",
       "      <td>[Sea to Table] 손질 생새우살 200g (냉동) (26/30 사이즈)</td>\n",
       "      <td>저는 나가서 사먹거나 시켜먹는것보다 해먹는걸 좋아하는 20대 남자주부(?)입니다ㅋㅋ...</td>\n",
       "      <td>140</td>\n",
       "      <td>2019-03-18</td>\n",
       "      <td>수산해산건어물</td>\n",
       "      <td>손질 생새우살 냉동 사이즈</td>\n",
       "      <td>저 는 나가서 사먹거나 시켜 먹는것보다 해먹 는걸 좋아하는 남자 주부 입니다 ㅋㅋㅋ...</td>\n",
       "      <td>[수산해산건어물, 손질, 생새우살, 냉동, 사이즈]</td>\n",
       "      <td>[마늘, 후추, 페퍼론치노]</td>\n",
       "    </tr>\n",
       "  </tbody>\n",
       "</table>\n",
       "</div>"
      ],
      "text/plain": [
       "       category                                   productname  \\\n",
       "412  베이커리·치즈·델리                         [교토마블] 데니쉬 식빵 3종 (택1)   \n",
       "872   수산·해산·건어물  [Sea to Table] 손질 생새우살 200g (냉동) (26/30 사이즈)   \n",
       "871   수산·해산·건어물  [Sea to Table] 손질 생새우살 200g (냉동) (26/30 사이즈)   \n",
       "191     과일·견과·쌀                          [항공직송] 칠레산 생 블루베리 2종   \n",
       "870   수산·해산·건어물  [Sea to Table] 손질 생새우살 200g (냉동) (26/30 사이즈)   \n",
       "\n",
       "                                               content  importance   datetime  \\\n",
       "412  아무 맛도 안 나는 것 같지만 사실 식빵이야말로 빵의 맛을 좌우한다고 믿는 사람으로...          36 2018-09-23   \n",
       "872  여러 종류의 새우가 있는데 그 중에서 손질생새우살은 처음 구입해봤습니다.\\n\\n냉동...          15 2019-01-26   \n",
       "871  감바스 알 아히요 만들어 먹었습니다. \\n냉동되어 있던 것을 뜨거운물에 담가놓으니 ...          33 2019-02-10   \n",
       "191  (market curly 칠레산블루베리(125g)후기입니다)\\n\\n마켓컬리에서 냉동...          30 2019-02-14   \n",
       "870  저는 나가서 사먹거나 시켜먹는것보다 해먹는걸 좋아하는 20대 남자주부(?)입니다ㅋㅋ...         140 2019-03-18   \n",
       "\n",
       "    preprocessed_category preprocessed_productname  \\\n",
       "412              베이커리치즈델리             교토마블 데니쉬 식빵    \n",
       "872               수산해산건어물           손질 생새우살 냉동 사이즈   \n",
       "871               수산해산건어물           손질 생새우살 냉동 사이즈   \n",
       "191                 과일견과쌀         항공직송 칠레산 생 블루베리    \n",
       "870               수산해산건어물           손질 생새우살 냉동 사이즈   \n",
       "\n",
       "                                  preprocessed_content  \\\n",
       "412  아무 맛 도 안 나 는 같지만 사실 식빵 이야말로 빵 맛 좌우 한 다 고 믿는 사람...   \n",
       "872  여러 종류 새우 가 있는데 중 에서 손질 생 새우 살 은 처음 구입 해봤습니다 냉동...   \n",
       "871  감 바스 알 아히 요 만들어 먹었습니다 냉동 되어 있던 뜨거운 물 에 담가놓으니 금...   \n",
       "191  market curly 칠레 산 블루베리 125 g 후기 입니다 마켓 컬리 에서 냉...   \n",
       "870  저 는 나가서 사먹거나 시켜 먹는것보다 해먹 는걸 좋아하는 남자 주부 입니다 ㅋㅋㅋ...   \n",
       "\n",
       "               Extracted_Keywords         hashtags  \n",
       "412     [베이커리치즈델리, 교토마블, 데니쉬, 식빵]     [치즈, 식빵, 피자]  \n",
       "872  [수산해산건어물, 손질, 생새우살, 냉동, 사이즈]   [타면, 신랑, 체다지즈]  \n",
       "871  [수산해산건어물, 손질, 생새우살, 냉동, 사이즈]    [호밀빵, 치즈, 식빵]  \n",
       "191   [과일견과쌀, 항공직송, 칠레산, 생, 블루베리]   [마켓컬리, 푸드, 굿굿]  \n",
       "870  [수산해산건어물, 손질, 생새우살, 냉동, 사이즈]  [마늘, 후추, 페퍼론치노]  "
      ]
     },
     "execution_count": 32,
     "metadata": {},
     "output_type": "execute_result"
    }
   ],
   "source": [
    "#각 단어 마다 , 추가\n",
    "def add_commas(string):\n",
    "    # Split the string by spaces and join with commas\n",
    "    return ', '.join(string.split())\n",
    "\n",
    "# commas 함수를 hashtags와 \n",
    "data['hashtags'] = data['hashtags'].apply(add_commas)\n",
    "data['Extracted_Keywords'] = data['Extracted_Keywords'].apply(add_commas)\n",
    "\n",
    "# 처음과 끝에 ' [ '와 ' ] '추가 하는 함수를 hashtags와 Extracted_Keyword에 적용\n",
    "def add_brackets(string):\n",
    "    return f'[{string}]'\n",
    "\n",
    "# 괄호 추가 함수를 hashtags와 Extracted_Keyword에 적용\n",
    "data['hashtags'] = data['hashtags'].apply(add_brackets)\n",
    "data['Extracted_Keywords'] = data['Extracted_Keywords'].apply(add_brackets)\n",
    "\n",
    "\n",
    "data.head()"
   ]
  },
  {
   "cell_type": "code",
   "execution_count": 37,
   "id": "309696e8ce0b64ed",
   "metadata": {
    "ExecuteTime": {
     "end_time": "2023-11-15T13:22:19.381816400Z",
     "start_time": "2023-11-15T13:22:19.365358400Z"
    },
    "collapsed": false
   },
   "outputs": [
    {
     "data": {
      "text/plain": [
       "'C:/Users/kgw57/PycharmProjects/data_contest/keyword_review/datetime_hashtags_importance_keywords_market.csv'"
      ]
     },
     "execution_count": 37,
     "metadata": {},
     "output_type": "execute_result"
    }
   ],
   "source": [
    "# 특정 열 선택 및 새 CSV 파일로 저장\n",
    "final_data = data[['datetime', 'hashtags', 'importance', 'Extracted_Keywords']]\n",
    "\n",
    "# importance가 0 보다 큰 값만 저장\n",
    "final_data = final_data[final_data['importance'] > 0]\n",
    "\n",
    "final_csv_path = 'datetime_hashtags_importance_keywords_market.csv'\n",
    "final_data.to_csv(final_csv_path, index=False)  # 선택된 열을 새 CSV 파일로 저장합니다.\n",
    "\n",
    "final_csv_path"
   ]
  },
  {
   "cell_type": "code",
   "execution_count": null,
   "id": "7c8f7bfdc96692a5",
   "metadata": {
    "collapsed": false
   },
   "outputs": [],
   "source": []
  }
 ],
 "metadata": {
  "kernelspec": {
   "display_name": "Python 3",
   "language": "python",
   "name": "python3"
  },
  "language_info": {
   "codemirror_mode": {
    "name": "ipython",
    "version": 2
   },
   "file_extension": ".py",
   "mimetype": "text/x-python",
   "name": "python",
   "nbconvert_exporter": "python",
   "pygments_lexer": "ipython2",
   "version": "2.7.6"
  }
 },
 "nbformat": 4,
 "nbformat_minor": 5
}
