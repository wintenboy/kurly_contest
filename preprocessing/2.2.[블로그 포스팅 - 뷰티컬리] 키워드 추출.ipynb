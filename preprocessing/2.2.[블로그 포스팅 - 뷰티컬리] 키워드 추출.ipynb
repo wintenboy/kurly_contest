{
 "cells": [
  {
   "cell_type": "code",
   "execution_count": 1,
   "id": "90ace8f5b015fc40",
   "metadata": {
    "ExecuteTime": {
     "end_time": "2023-11-01T16:00:17.743584Z",
     "start_time": "2023-11-01T16:00:15.862918100Z"
    },
    "collapsed": false
   },
   "outputs": [
    {
     "name": "stderr",
     "output_type": "stream",
     "text": [
      "/home/winten/.pyenv/versions/3.10.11/envs/langchain_kurly/lib/python3.10/site-packages/tqdm/auto.py:21: TqdmWarning: IProgress not found. Please update jupyter and ipywidgets. See https://ipywidgets.readthedocs.io/en/stable/user_install.html\n",
      "  from .autonotebook import tqdm as notebook_tqdm\n"
     ]
    },
    {
     "data": {
      "text/plain": [
       "['뷰티 뷰티 컬 리페 스타 추천 템 세 일 달려요 에일리 2023 2 11 18 35 url 복사 이웃 추가 본문 기타 기능 어제 부터 시작 된 뷰티 컬 리페 스타 소개 해요 단 7일 간 진행 되는 역대 급 쇼핑 찬스 라 놓치면 너무 너무 아까울 저 는 컬리 에서 진행 되는 걸 눈 여겨 보고 있다가 후다닥 들어갔는데 매일 3천 명에게 지급 되는 선착순 쿠폰 2 가지 중 1만원 권은 놓쳐서 4천원 권을 득템 해서 알뜰하게 성공했지요 새벽 배송 으로 유명한 컬리 이지만 오전 에 주문 했더니 세상 에 자정 전 에 도착 해서 깜짝 놀랐지 뭐 에요 ㅎㅎㅎ 단 7일 동안만 푸 짐 한 혜택 들 누리 며 그동안 사고싶었지만 가격 대가 부담스러웠던 뷰티 제품 들 쇼핑 하기 좋아요 2월 9일 부터 2월 16일 까지니까 놓치지말고 구입 하자고요 그럼 뷰티 컬리 페스 타의 혜택 은 어떤게 있을까 궁금하시죠 결제 혜택 으로는 제휴 사 혜택 오전 11시 마다 발급 되는 1만원 쿠폰 4천원 쿠폰 타임 어택 에서는 매일 오후 5시 마다 한정 수량 으로 구입 할 수 있는 인기 상품 들 50 세 일 빅세일 코너 에서는 스페셜 딜 플렉스 딜 플러스 딜 득템 딜 카테고리 특 가 최대 74 특가 로 역대 급 쇼핑 찬스 에요 인기 브랜드관 에서는 각 브랜드 마다 7일 한정 으로 할인 부터 증정 까지 다양한 행사 들 기다리고 있어요 우선 은 매일 오전 11시 마다 선착순 으로 다운 받아서 사용 할 수 있는 쿠폰 놓치지말고 받으시길 추천 해요 첫날 에는 깜빡 잊고 11시 반쯤 입장 했더니 1만원 쿠폰은 품절 더라고요 ㅜㅜ 3만원 이상 주 문 시 에 사용 할 수 있는 4천원 쿠폰 은 받아 볼 수 있어서 다운 받아서 스킨 케어 구입 했어요 뷰티 컬 리페 스타 선착순 할인 쿠폰 은 꼭 받으시길 그리고 결제 할 때 더블 적립 도 받아야죠 5만원 이상 결제 하신다면 네이버 페이 로 결제 하시 기를 추천 하는데요 네이버 페이 로 결제 하면 기본 2천 포인트 는 적립 되고요 삼 성 카드 나 우리카드 로 결제 하게 되면 더블 적립 으로 네이버 페이 총 4천 포인트를 적립 받을 수 있는거랍니다 매일 오후 5시 에는 매일 달라지는 인기 상품 들 50 세 일 가로 득템 할 수 있으니 알람 맞춰 두고 구입 하세요 각 상품 은 1 인 1 개 구매 가 가능합니다 뷰티 컬 리페 스타 에서 최대 74 특가 로 구입 할 수 있는 제품 들 도 많아요 진짜 사고싶은 제품 들 가득 이라 구경 하는 재미 도 아주 쏠쏠한데요 1 플러스 1 부터 기프트 증정 까지 이번 뷰티 컬 리페 스타 에서 구입 하시면 진짜 저렴하게 쇼핑 하실 수 있을거에요 인 브랜드 관 에서는 혜택 빵빵 한데요 아로마 티카 는 47 할인 에 그래픽 파우치 증정 하고요 스킨푸드 는 무려 50 할인 에 클렌징 키트 멀티 밤 증정 해요 디어 달리아 는 20 할인 에 힉 아이 리무버 증정 하고 아 벤 느는 63 할인 에 클렌징 젤 증정 합니다 요즘 핫 한 라이브 도 빠질 수 없죠 2월 9일 오후 8시 에는 맥 15 할인 에 쿠폰 기프트 증정 하는 방송 하고 2월 10일 오후 8시 에는 비오템 제품 15 할인 에 쿠폰 기프트 증정 해요 요즘 제 피부 에 맞는 쿠션 찾아 삼만리 ㅎㅎㅎ 헤라 글 로우 쿠션 너무 궁금했었는데 뷰티 컬 리페 스타 에서는 할인 도 하고 기프트 도 증정 하는데 매일 오전 11시 에 증정 하는 1만원 쿠폰을 다운 받는데 성공해서 바로 주문 했어요 아이브 로우 함께 구입 했더니 5만원 넘어서 네이버 페이 로 결제 해서 4천 포인트까지 챙겨주는 센스 ㅎㅎㅎ 완전 알뜰 쇼핑 해서 기분 좋아요 2월 14일 은 발렌타인데이 니까 남편 위해 비오템 기획 세트 주문 하려고 장바구니 에 넣어 두었어요 ㅎㅎㅎ 13일 에 주문 하면 14일 에 슝 샛별 배송 으로 받아서 깜짝선물 하면 너무 좋아할것 같쥬 이제 봄 오고 있으니 기분 전환 도 할 겸 예쁜 컬러 가 필요하잖아요 맥 립스틱 15 할인 받고 구입 할 수 있는데 4천원 쿠폰 받고 구입 하면 완전 꿀 아닙니 꽈 ㅎㅎㅎ 스킨푸드 로열 허니 에센스 는 궁금했던 제품 이기도 하고 에센스 구입 하려고 했던 터 라 장바구니 에 담았고요 닥터 지 수 딩 크림 은 너무 좋아서 50 ml 세트 에 23 500원 이라니 가격 너무 너무 착하니까 안 살수가 없더라고요 뷰티 컬 리페 스타 첫날 에 바로 득템 한 4천원 쿠폰 적용 해서 구입 했답니다 밤 에 음 쓰 버리러 현관 나갔는데 벌써 도착 해있던 샛별 배송 컬리 박스 제 가 이래서 컬리 좋아했거 덩 요 ㅎㅎㅎ 매일 바르는 스킨 케어 는 착한 가격 으로 판매 하는 뷰티 컬 리페 스타 에서 더 구입 해야겠어요 기프트 까지 빵빵 하니 푸 짐 해서 좋아요 닥터 지 제품 은 민감한 피부 에도 편안하게 사용 할 수 있어서 온 가족 바르기에 좋더라고요 제 형 마음 에 들고 촉촉하기까지 해서 좋아하는 제품 이었는데 착한 가격 에 구입 하니 너무 뿌듯해요 프로폴리스 에센스 는 보기 에도 촉촉한것 선물 까지 큼직한 걸 로 넣어주셔서 보기 만 해도 배부르네요 ㅎㅎㅎ 오전 11시 에 알람 설정 해 두었다가 득템 한 1만원 할인 쿠폰 까지 적용 해서 더욱 알뜰하게 구입 한 헤라 쿠션 도 얼릉얼릉 왔으면 좋겠네요 ㅎㅎㅎㅎ 아무래도 매일 뷰티 컬 리페 스타 에서 저 자꾸 구입 할 같습니다 저작자 명시 필수 영리 적 사용 불가 내용 변경 불가 태그 뷰티 컬 리페 스타 뷰티 컬리 뷰티 컬리 세 일 뷰티 컬리 추천 뷰티 컬리 추천 템 뷰티 공감 24 글 에 공감 한 블로거 열고 닫기 댓글 1 글 에 댓글 단 블로거 열고 닫기 keep 보내기 메모 보내기 기타 보내기 펼치기',\n",
       " '리뷰 마켓 컬리 화장품 뷰티 컬리 러쉬 입욕 제 진 2022 11 1 23 52 url 복사 이웃 추가 본문 기타 기능 2030 세대 라면 누구 나 한번 쯤 은 컬리 라는 이름 들어 보지 않았을까 싶을 정도 로 유명해진 컬리 에서 새롭게 뷰티 컬리 가 런칭했다 그간 식품 이나 생활용품 은 샛별 배송 되는데 왜 화장품 은 새벽 배송 안되는걸 까 라고 궁금했던 나 에게 뷰티 컬리 런칭소식 은 기대하게 만들었다 마켓 컬리 앱 에 들어가서 상단 영역 보면 사진 같이 두 가지 영역 따로 나누어져 있어서 구분 해서 편리하게 쇼핑 할 수 있다 런칭 하 자마자 입점 된 브랜드 들 구경 하는데 쟁쟁 한 라인업 에 구경 하는 재미 가 쏠쏠 _ 로드 샵 브랜드 부터 백화점 에 입점 해있는 브랜드관 까지 다양한 카테고리 덕분 에 시간 가는 줄 모르고 구경 했다 특히 구찌 뷰티 나 디올 입생로랑 같은 백화점 럭셔리 브랜드 들 한자리 에 모아서 온라인 으로 간편하게 쇼핑 할 수 있으니 굿 최근 하고있는 일 들 때문 에 바빠지게 되면서 힐링 타임 간절해졌다 집 에서라도 편하게 있고 싶어서 나를 위 한 힐링 용품 들 마구마구 사들이는 중 중 온몸 노곤 노곤 하 게 해주는 입욕 제 쇼핑 도 빼놓지 않는다 퇴근 후 욕조 에 뜨거운 물 받은 후 몸 지지는 시간 만큼은 나 에게 힐링 타임 선사 해준다 늘 인터넷 에서 구입 하고 며칠 후 배송 받았던 터 라 뷰티 컬리 런칭 한 후 부터 검색 창 에 바디 제품 만 눈 에 불 켜고 검색 했다 하나 씩 구입 하는 재미 짜릿해 게다가 새벽 배송 으로 만 나볼 수 있으니 배 쓰 밤 으로 검색 하다가 러쉬 가 입점 된 발견 러쉬 배 쓰 밤 은 못 참지 밤 11시 전에 주문 해서 새벽 배송 으로 받아 볼 수 있었다 곱 게 포장 되어서 도착 한 러쉬 바디 제품 들 러블리 기프트 세트 입욕 제 1 개 구매 했다 기프트 세트 구매 했더니 쇼핑 백 은 사은 품 으로 함께 오는 센스 중 러블리 기프트 세트 는 입욕 제 샤워 스크럽 으로 구성 되어 있다 러쉬 치고는 크게 향 강하거나 세지 않아서 호불호 가 적기 때문 에 선물 세트 로 제격 이다 아마도 그래서 기프트 세트 로 묶어놓았나보다 선물 세트 이지만 나 는 나를 위해 구매 했음 ㅋㅋ 샤워 스크럽 은 럽 럽 럽 제품 이고 입욕 제 는 사쿠라 이다 상큼 한 레몬 달콤한 자스민 향 나기 때문 에 달콤한 휴식 시간 선물 해준다는 뷰티 컬리 담당 md 님 코멘트 에 고민 은 1 도 하지 않았다 평소 md 코멘트 꽤 유심 히 읽는 사람 나야 나 달콤한 휴식 그거 내 가 원하 쟈 나 요 들고 맡아 보면 자스민 향기 보다는 레몬 상큼 한 향 강해서 기분 좋아진다 욕조 에 뜨거운 물 받아서 퐁당 빠트린 후 20분 동안 몸 지 지기 하루 피로 가 풀리는 시간 마켓 컬리 화장품 뷰티 컬리 러쉬 입욕 제 재생 27 00 00 00 26 마켓 컬리 화장품 뷰티 컬리 러쉬 입욕 제 입욕 끝난 후 에는 샤워 스크럽 인 럽 럽 럽 꺼내 보았는데 걸 사용 할 때 는 꼭 몸 에 물기 닦아 낸 후 사용 하는게 필수 이다 예전 에 러쉬 매장 에 방문 했을 때 직원 분 시연 해주시면서 알려주셨기 때문 에 뒤 로는 꼭 물 묻히지 않고 스크럽 먼저 사용 한 다 럽 럽 럽 은 촉촉하고 묽은 제 형 으로 스푼 이나 손 으로 떠서 사용 하기에 편리하다 고운 소금 알갱이 라 들어있어서 피부 에 올린 후 살살 롤링 하면 된다 거품 은 살짝 나고 스크럽 치고는 거친 느낌 덜 한편 개인 적 으로 너무 강한 스크럽 은 거부 감 든다 이렇게 물 묻히지 않고 바로 피부 에 올려서 사용 하는게 포인트 레몬 즙 들어가있어서 그런지 상큼 한 향 난다 그리고 러쉬 에서 유명한 배 쓰 밤 중 하나 인 섹스 밤 러쉬 매장 에 갔는데 고를 제품 마땅치 않다 하면 바로 섹스 밤 추천 하고 싶다 자스민 일 랑 일랑 어우러져서 달콤한 향 나는데 한 번 사용 해보면 게 왜 유명 템 인지 알 수 있다 호불호 없는 향 더불어 핑크 핑크 한 욕조 안 빛깔 로맨틱 함 선사 해준다 규 나 는 집 에서 힐링 용 으로 구매 했지만 갑자기 다음 날 급 여행 떠나는데 배 쓰 밤 이나 바디 제품 또는 기초 제품 이나 메이크업 제품 필요하다 싶을 땐 주저 말로 뷰티 컬리 로 고고씽 이제 는 화장품 도 샛별 배송 으로 받을 수 있다니 넘나 좋아진 세상 이다 매 장가 서 구입 하 거나 인터넷 에서 구입 후 며칠 기다렸다 받아 야하는 러쉬 단 하루 만에 그것 도 새벽 에 배송 받을 수 있어서 앞 으로 자주 이용 하게 될 듯 저작자 명시 필수 영리 적 사용 불가 내용 변경 불가 태그 마켓 컬리 마켓 컬리 추천 마켓 컬리 화장품 뷰티 컬리 뷰티 컬리 러쉬 러쉬 배 쓰 밤 러쉬 입욕 제 러쉬 스크럽 러쉬 럽럽럽 러쉬 섹스 밤 러쉬 사쿠라 블로그 보내기 카페 보내기 keep 보내기 메모 보내기 기타 보내기 펼치기']"
      ]
     },
     "execution_count": 1,
     "metadata": {},
     "output_type": "execute_result"
    }
   ],
   "source": [
    "from keybert import KeyBERT\n",
    "from kiwipiepy import Kiwi\n",
    "from transformers import BertModel\n",
    "from tqdm import tqdm\n",
    "import pandas as pd\n",
    "model = BertModel.from_pretrained('skt/kobert-base-v1')\n",
    "kw_model = KeyBERT(model)\n",
    "\n",
    "# Load the CSV file again\n",
    "data = pd.read_csv('preprocessed_content_beauty.csv')\n",
    "\n",
    "# Extracting each row from the 'preprocessed_content' column and storing it in a list\n",
    "content_list = data['preprocessed_content'].tolist()\n",
    "\n",
    "# Displaying the first few items in the list to verify\n",
    "content_list[:2]"
   ]
  },
  {
   "cell_type": "code",
   "execution_count": 2,
   "id": "33d79d4c28b31f44",
   "metadata": {
    "ExecuteTime": {
     "end_time": "2023-11-01T16:10:38.287956700Z",
     "start_time": "2023-11-01T16:06:03.152972200Z"
    },
    "collapsed": false
   },
   "outputs": [
    {
     "name": "stderr",
     "output_type": "stream",
     "text": [
      "100%|██████████| 3992/3992 [05:04<00:00, 13.10it/s]"
     ]
    },
    {
     "name": "stdout",
     "output_type": "stream",
     "text": [
      "[[('성공', 0.2497), ('설정', 0.2425), ('증정', 0.236)], [('런칭', 0.2316), ('영역', 0.2201), ('알갱이', 0.2199)], [('걱정', 0.2466), ('증정', 0.2402), ('선택', 0.2123)], [('라이프스타일', 0.2852), ('인생', 0.2821), ('과정', 0.2751)], [('걱정', 0.2453), ('증정', 0.2437), ('선인장', 0.2354)]]\n"
     ]
    },
    {
     "name": "stderr",
     "output_type": "stream",
     "text": [
      "\n"
     ]
    }
   ],
   "source": [
    "# Kiwi와 KeyBERT 모델 초기화\n",
    "kiwi = Kiwi()\n",
    "kw_model = KeyBERT()\n",
    "\n",
    "# 명사 추출 함수\n",
    "def noun_extractor(text):\n",
    "    results = []\n",
    "    result = kiwi.analyze(text)\n",
    "    for token, pos, _, _ in result[0][0]:\n",
    "        if len(token) != 1 and (pos.startswith('N') or pos.startswith('SL')):\n",
    "            results.append(token)\n",
    "    return results\n",
    "\n",
    "# 각 행의 텍스트에 대해 명사 추출 및 키워드 추출\n",
    "extracted_keywords = []\n",
    "for text in tqdm(content_list):\n",
    "    # 명사 추출\n",
    "    nouns = noun_extractor(text)\n",
    "    after_kiwi_text = ' '.join(nouns)\n",
    "    \n",
    "    # KeyBERT를 사용한 키워드 추출\n",
    "    preprocessed_content_keywords = kw_model.extract_keywords(after_kiwi_text, keyphrase_ngram_range=(1, 1), stop_words=None, top_n=3)\n",
    "    \n",
    "    # 추출된 키워드 저장\n",
    "    extracted_keywords.append(preprocessed_content_keywords)\n",
    "\n",
    "# 결과 출력\n",
    "print(extracted_keywords[:5])\n"
   ]
  },
  {
   "cell_type": "code",
   "execution_count": 3,
   "id": "b98dd761dd5ae713",
   "metadata": {
    "ExecuteTime": {
     "end_time": "2023-11-01T16:15:08.325999700Z",
     "start_time": "2023-11-01T16:15:08.305068800Z"
    },
    "collapsed": false
   },
   "outputs": [
    {
     "data": {
      "text/html": [
       "<div>\n",
       "<style scoped>\n",
       "    .dataframe tbody tr th:only-of-type {\n",
       "        vertical-align: middle;\n",
       "    }\n",
       "\n",
       "    .dataframe tbody tr th {\n",
       "        vertical-align: top;\n",
       "    }\n",
       "\n",
       "    .dataframe thead th {\n",
       "        text-align: right;\n",
       "    }\n",
       "</style>\n",
       "<table border=\"1\" class=\"dataframe\">\n",
       "  <thead>\n",
       "    <tr style=\"text-align: right;\">\n",
       "      <th></th>\n",
       "      <th>Extracted_Keywords</th>\n",
       "    </tr>\n",
       "  </thead>\n",
       "  <tbody>\n",
       "    <tr>\n",
       "      <th>0</th>\n",
       "      <td>[성공, 설정, 증정]</td>\n",
       "    </tr>\n",
       "    <tr>\n",
       "      <th>1</th>\n",
       "      <td>[런칭, 영역, 알갱이]</td>\n",
       "    </tr>\n",
       "    <tr>\n",
       "      <th>2</th>\n",
       "      <td>[걱정, 증정, 선택]</td>\n",
       "    </tr>\n",
       "    <tr>\n",
       "      <th>3</th>\n",
       "      <td>[라이프스타일, 인생, 과정]</td>\n",
       "    </tr>\n",
       "    <tr>\n",
       "      <th>4</th>\n",
       "      <td>[걱정, 증정, 선인장]</td>\n",
       "    </tr>\n",
       "  </tbody>\n",
       "</table>\n",
       "</div>"
      ],
      "text/plain": [
       "  Extracted_Keywords\n",
       "0       [성공, 설정, 증정]\n",
       "1      [런칭, 영역, 알갱이]\n",
       "2       [걱정, 증정, 선택]\n",
       "3   [라이프스타일, 인생, 과정]\n",
       "4      [걱정, 증정, 선인장]"
      ]
     },
     "execution_count": 3,
     "metadata": {},
     "output_type": "execute_result"
    }
   ],
   "source": [
    "# Extracting only the words from the extracted keywords\n",
    "words_only = [[keyword[0] for keyword in keywords_list] for keywords_list in extracted_keywords]\n",
    "\n",
    "# Creating a new DataFrame with the words only\n",
    "keywords_df = pd.DataFrame({\n",
    "    'Extracted_Keywords': words_only\n",
    "})\n",
    "\n",
    "keywords_df.head()"
   ]
  },
  {
   "cell_type": "code",
   "execution_count": 4,
   "id": "2863fe43",
   "metadata": {},
   "outputs": [
    {
     "data": {
      "text/html": [
       "<div>\n",
       "<style scoped>\n",
       "    .dataframe tbody tr th:only-of-type {\n",
       "        vertical-align: middle;\n",
       "    }\n",
       "\n",
       "    .dataframe tbody tr th {\n",
       "        vertical-align: top;\n",
       "    }\n",
       "\n",
       "    .dataframe thead th {\n",
       "        text-align: right;\n",
       "    }\n",
       "</style>\n",
       "<table border=\"1\" class=\"dataframe\">\n",
       "  <thead>\n",
       "    <tr style=\"text-align: right;\">\n",
       "      <th></th>\n",
       "      <th>importance</th>\n",
       "    </tr>\n",
       "  </thead>\n",
       "  <tbody>\n",
       "    <tr>\n",
       "      <th>0</th>\n",
       "      <td>25.0</td>\n",
       "    </tr>\n",
       "    <tr>\n",
       "      <th>1</th>\n",
       "      <td>0.0</td>\n",
       "    </tr>\n",
       "    <tr>\n",
       "      <th>2</th>\n",
       "      <td>26.0</td>\n",
       "    </tr>\n",
       "    <tr>\n",
       "      <th>3</th>\n",
       "      <td>11.0</td>\n",
       "    </tr>\n",
       "    <tr>\n",
       "      <th>4</th>\n",
       "      <td>12.0</td>\n",
       "    </tr>\n",
       "  </tbody>\n",
       "</table>\n",
       "</div>"
      ],
      "text/plain": [
       "   importance\n",
       "0        25.0\n",
       "1         0.0\n",
       "2        26.0\n",
       "3        11.0\n",
       "4        12.0"
      ]
     },
     "execution_count": 4,
     "metadata": {},
     "output_type": "execute_result"
    }
   ],
   "source": [
    "importance_df = pd.DataFrame()\n",
    "importance_df['importance'] = data['likes'].values + data['comments'].values\n",
    "importance_df.head()"
   ]
  },
  {
   "cell_type": "code",
   "execution_count": 5,
   "id": "dc41d07c7f2d28aa",
   "metadata": {
    "ExecuteTime": {
     "end_time": "2023-11-01T16:15:22.318412800Z",
     "start_time": "2023-11-01T16:15:22.272317Z"
    },
    "collapsed": false
   },
   "outputs": [
    {
     "data": {
      "text/html": [
       "<div>\n",
       "<style scoped>\n",
       "    .dataframe tbody tr th:only-of-type {\n",
       "        vertical-align: middle;\n",
       "    }\n",
       "\n",
       "    .dataframe tbody tr th {\n",
       "        vertical-align: top;\n",
       "    }\n",
       "\n",
       "    .dataframe thead th {\n",
       "        text-align: right;\n",
       "    }\n",
       "</style>\n",
       "<table border=\"1\" class=\"dataframe\">\n",
       "  <thead>\n",
       "    <tr style=\"text-align: right;\">\n",
       "      <th></th>\n",
       "      <th>importance</th>\n",
       "      <th>Extracted_Keywords</th>\n",
       "    </tr>\n",
       "  </thead>\n",
       "  <tbody>\n",
       "    <tr>\n",
       "      <th>0</th>\n",
       "      <td>25.0</td>\n",
       "      <td>[성공, 설정, 증정]</td>\n",
       "    </tr>\n",
       "    <tr>\n",
       "      <th>1</th>\n",
       "      <td>0.0</td>\n",
       "      <td>[런칭, 영역, 알갱이]</td>\n",
       "    </tr>\n",
       "    <tr>\n",
       "      <th>2</th>\n",
       "      <td>26.0</td>\n",
       "      <td>[걱정, 증정, 선택]</td>\n",
       "    </tr>\n",
       "    <tr>\n",
       "      <th>3</th>\n",
       "      <td>11.0</td>\n",
       "      <td>[라이프스타일, 인생, 과정]</td>\n",
       "    </tr>\n",
       "    <tr>\n",
       "      <th>4</th>\n",
       "      <td>12.0</td>\n",
       "      <td>[걱정, 증정, 선인장]</td>\n",
       "    </tr>\n",
       "  </tbody>\n",
       "</table>\n",
       "</div>"
      ],
      "text/plain": [
       "   importance Extracted_Keywords\n",
       "0        25.0       [성공, 설정, 증정]\n",
       "1         0.0      [런칭, 영역, 알갱이]\n",
       "2        26.0       [걱정, 증정, 선택]\n",
       "3        11.0   [라이프스타일, 인생, 과정]\n",
       "4        12.0      [걱정, 증정, 선인장]"
      ]
     },
     "execution_count": 5,
     "metadata": {},
     "output_type": "execute_result"
    }
   ],
   "source": [
    "importance_keyword_df = pd.concat([importance_df,keywords_df],axis=1)\n",
    "importance_keyword_df.head()"
   ]
  },
  {
   "cell_type": "code",
   "execution_count": 7,
   "id": "1894babb7ee1a191",
   "metadata": {
    "collapsed": false
   },
   "outputs": [
    {
     "data": {
      "text/html": [
       "<div>\n",
       "<style scoped>\n",
       "    .dataframe tbody tr th:only-of-type {\n",
       "        vertical-align: middle;\n",
       "    }\n",
       "\n",
       "    .dataframe tbody tr th {\n",
       "        vertical-align: top;\n",
       "    }\n",
       "\n",
       "    .dataframe thead th {\n",
       "        text-align: right;\n",
       "    }\n",
       "</style>\n",
       "<table border=\"1\" class=\"dataframe\">\n",
       "  <thead>\n",
       "    <tr style=\"text-align: right;\">\n",
       "      <th></th>\n",
       "      <th>datetime</th>\n",
       "      <th>hashtags</th>\n",
       "      <th>importance</th>\n",
       "      <th>Extracted_Keywords</th>\n",
       "    </tr>\n",
       "  </thead>\n",
       "  <tbody>\n",
       "    <tr>\n",
       "      <th>0</th>\n",
       "      <td>2023. 2. 11. 18:35</td>\n",
       "      <td>['뷰티컬리페스타', '뷰티컬리', '뷰티컬리세일', '뷰티컬리추천', '뷰티컬리추...</td>\n",
       "      <td>25.0</td>\n",
       "      <td>[성공, 설정, 증정]</td>\n",
       "    </tr>\n",
       "    <tr>\n",
       "      <th>1</th>\n",
       "      <td>2022. 11. 1. 23:52</td>\n",
       "      <td>['마켓컬리', '마켓컬리추천', '마켓컬리화장품', '뷰티컬리', '뷰티컬리러쉬'...</td>\n",
       "      <td>0.0</td>\n",
       "      <td>[런칭, 영역, 알갱이]</td>\n",
       "    </tr>\n",
       "    <tr>\n",
       "      <th>2</th>\n",
       "      <td>2022. 11. 13. 23:37</td>\n",
       "      <td>['헤라블랙쿠션', '뷰티컬리', '마켓컬리', '샛별배송', '헤라쿠션']</td>\n",
       "      <td>26.0</td>\n",
       "      <td>[걱정, 증정, 선택]</td>\n",
       "    </tr>\n",
       "    <tr>\n",
       "      <th>3</th>\n",
       "      <td>2023. 8. 8. 20:10</td>\n",
       "      <td>['뷰티컬리입점템', '마켓컬리추천상품', '라로제', '라로제토닉로션', '라로제...</td>\n",
       "      <td>11.0</td>\n",
       "      <td>[라이프스타일, 인생, 과정]</td>\n",
       "    </tr>\n",
       "    <tr>\n",
       "      <th>4</th>\n",
       "      <td>2023. 2. 15. 21:24</td>\n",
       "      <td>['뷰티컬리', '뷰티컬리페스타', '뷰티컬리세일', '뷰티컬리추천', '뷰티컬리추...</td>\n",
       "      <td>12.0</td>\n",
       "      <td>[걱정, 증정, 선인장]</td>\n",
       "    </tr>\n",
       "  </tbody>\n",
       "</table>\n",
       "</div>"
      ],
      "text/plain": [
       "              datetime                                           hashtags  \\\n",
       "0   2023. 2. 11. 18:35  ['뷰티컬리페스타', '뷰티컬리', '뷰티컬리세일', '뷰티컬리추천', '뷰티컬리추...   \n",
       "1   2022. 11. 1. 23:52  ['마켓컬리', '마켓컬리추천', '마켓컬리화장품', '뷰티컬리', '뷰티컬리러쉬'...   \n",
       "2  2022. 11. 13. 23:37         ['헤라블랙쿠션', '뷰티컬리', '마켓컬리', '샛별배송', '헤라쿠션']   \n",
       "3    2023. 8. 8. 20:10  ['뷰티컬리입점템', '마켓컬리추천상품', '라로제', '라로제토닉로션', '라로제...   \n",
       "4   2023. 2. 15. 21:24  ['뷰티컬리', '뷰티컬리페스타', '뷰티컬리세일', '뷰티컬리추천', '뷰티컬리추...   \n",
       "\n",
       "   importance Extracted_Keywords  \n",
       "0        25.0       [성공, 설정, 증정]  \n",
       "1         0.0      [런칭, 영역, 알갱이]  \n",
       "2        26.0       [걱정, 증정, 선택]  \n",
       "3        11.0   [라이프스타일, 인생, 과정]  \n",
       "4        12.0      [걱정, 증정, 선인장]  "
      ]
     },
     "execution_count": 7,
     "metadata": {},
     "output_type": "execute_result"
    }
   ],
   "source": [
    "datetime_keyword_hashtags_importance_df = pd.concat([data[['datetime','hashtags']],importance_keyword_df], axis=1)\n",
    "datetime_keyword_hashtags_importance_df.head()"
   ]
  },
  {
   "cell_type": "code",
   "execution_count": 8,
   "id": "b8dbe7e2",
   "metadata": {},
   "outputs": [
    {
     "data": {
      "text/html": [
       "<div>\n",
       "<style scoped>\n",
       "    .dataframe tbody tr th:only-of-type {\n",
       "        vertical-align: middle;\n",
       "    }\n",
       "\n",
       "    .dataframe tbody tr th {\n",
       "        vertical-align: top;\n",
       "    }\n",
       "\n",
       "    .dataframe thead th {\n",
       "        text-align: right;\n",
       "    }\n",
       "</style>\n",
       "<table border=\"1\" class=\"dataframe\">\n",
       "  <thead>\n",
       "    <tr style=\"text-align: right;\">\n",
       "      <th></th>\n",
       "      <th>datetime</th>\n",
       "      <th>hashtags</th>\n",
       "      <th>importance</th>\n",
       "      <th>Extracted_Keywords</th>\n",
       "    </tr>\n",
       "  </thead>\n",
       "  <tbody>\n",
       "    <tr>\n",
       "      <th>0</th>\n",
       "      <td>2023. 2. 11. 18:35</td>\n",
       "      <td>[뷰티컬리페스타, 뷰티컬리, 뷰티컬리세일, 뷰티컬리추천, 뷰티컬리추천템, 뷰티]</td>\n",
       "      <td>25.0</td>\n",
       "      <td>[성공, 설정, 증정]</td>\n",
       "    </tr>\n",
       "    <tr>\n",
       "      <th>1</th>\n",
       "      <td>2022. 11. 1. 23:52</td>\n",
       "      <td>[마켓컬리, 마켓컬리추천, 마켓컬리화장품, 뷰티컬리, 뷰티컬리러쉬, 러쉬배쓰밤, 러...</td>\n",
       "      <td>0.0</td>\n",
       "      <td>[런칭, 영역, 알갱이]</td>\n",
       "    </tr>\n",
       "    <tr>\n",
       "      <th>2</th>\n",
       "      <td>2022. 11. 13. 23:37</td>\n",
       "      <td>[헤라블랙쿠션, 뷰티컬리, 마켓컬리, 샛별배송, 헤라쿠션]</td>\n",
       "      <td>26.0</td>\n",
       "      <td>[걱정, 증정, 선택]</td>\n",
       "    </tr>\n",
       "    <tr>\n",
       "      <th>3</th>\n",
       "      <td>2023. 8. 8. 20:10</td>\n",
       "      <td>[뷰티컬리입점템, 마켓컬리추천상품, 라로제, 라로제토닉로션, 라로제토너, 뷰티컬리]</td>\n",
       "      <td>11.0</td>\n",
       "      <td>[라이프스타일, 인생, 과정]</td>\n",
       "    </tr>\n",
       "    <tr>\n",
       "      <th>4</th>\n",
       "      <td>2023. 2. 15. 21:24</td>\n",
       "      <td>[뷰티컬리, 뷰티컬리페스타, 뷰티컬리세일, 뷰티컬리추천, 뷰티컬리추천템]</td>\n",
       "      <td>12.0</td>\n",
       "      <td>[걱정, 증정, 선인장]</td>\n",
       "    </tr>\n",
       "    <tr>\n",
       "      <th>...</th>\n",
       "      <td>...</td>\n",
       "      <td>...</td>\n",
       "      <td>...</td>\n",
       "      <td>...</td>\n",
       "    </tr>\n",
       "    <tr>\n",
       "      <th>3987</th>\n",
       "      <td>2023. 4. 12. 10:36</td>\n",
       "      <td>[안다로미네앱테크, 캐시워크, 돈버는퀴즈, 캐시워크정답, 안다로미네캐시워크, 앱테크...</td>\n",
       "      <td>6.0</td>\n",
       "      <td>[추천, 선착순, 성공]</td>\n",
       "    </tr>\n",
       "    <tr>\n",
       "      <th>3988</th>\n",
       "      <td>2023. 5. 16. 9:09</td>\n",
       "      <td>[캐시워크, 캐시워크, 캐시워크정답, 캐시워크돈버는퀴즈, 캐시워크돈버는퀴즈정답, 앱...</td>\n",
       "      <td>7.0</td>\n",
       "      <td>[걱정, 증정, 선착순]</td>\n",
       "    </tr>\n",
       "    <tr>\n",
       "      <th>3989</th>\n",
       "      <td>2022. 11. 14. 15:13</td>\n",
       "      <td>[뷰티컬리, 마켓컬리, 추천, 아로마티카, 비오템, 이니스프리, 달바]</td>\n",
       "      <td>11.0</td>\n",
       "      <td>[마스터, 걱정, 망상]</td>\n",
       "    </tr>\n",
       "    <tr>\n",
       "      <th>3990</th>\n",
       "      <td>2023. 4. 14. 12:05</td>\n",
       "      <td>[캐시워크, 캐시워크돈버는퀴즈, 캐시워크정답, 캐시워크정답모음, 캐시워크쿠폰, 캐시...</td>\n",
       "      <td>6.0</td>\n",
       "      <td>[성공, 선착순, 견적]</td>\n",
       "    </tr>\n",
       "    <tr>\n",
       "      <th>3991</th>\n",
       "      <td>2022. 11. 8. 9:08</td>\n",
       "      <td>[캐시워크, 캐시워크, 다채로운, 뷰티컬리, 뷰티컬리, 뷰티컬리, 컷슬린, 부원료,...</td>\n",
       "      <td>0.0</td>\n",
       "      <td>[인정, 럭셔리, 립스틱]</td>\n",
       "    </tr>\n",
       "  </tbody>\n",
       "</table>\n",
       "<p>3992 rows × 4 columns</p>\n",
       "</div>"
      ],
      "text/plain": [
       "                 datetime                                           hashtags  \\\n",
       "0      2023. 2. 11. 18:35       [뷰티컬리페스타, 뷰티컬리, 뷰티컬리세일, 뷰티컬리추천, 뷰티컬리추천템, 뷰티]   \n",
       "1      2022. 11. 1. 23:52  [마켓컬리, 마켓컬리추천, 마켓컬리화장품, 뷰티컬리, 뷰티컬리러쉬, 러쉬배쓰밤, 러...   \n",
       "2     2022. 11. 13. 23:37                   [헤라블랙쿠션, 뷰티컬리, 마켓컬리, 샛별배송, 헤라쿠션]   \n",
       "3       2023. 8. 8. 20:10     [뷰티컬리입점템, 마켓컬리추천상품, 라로제, 라로제토닉로션, 라로제토너, 뷰티컬리]   \n",
       "4      2023. 2. 15. 21:24           [뷰티컬리, 뷰티컬리페스타, 뷰티컬리세일, 뷰티컬리추천, 뷰티컬리추천템]   \n",
       "...                   ...                                                ...   \n",
       "3987   2023. 4. 12. 10:36  [안다로미네앱테크, 캐시워크, 돈버는퀴즈, 캐시워크정답, 안다로미네캐시워크, 앱테크...   \n",
       "3988    2023. 5. 16. 9:09  [캐시워크, 캐시워크, 캐시워크정답, 캐시워크돈버는퀴즈, 캐시워크돈버는퀴즈정답, 앱...   \n",
       "3989  2022. 11. 14. 15:13            [뷰티컬리, 마켓컬리, 추천, 아로마티카, 비오템, 이니스프리, 달바]   \n",
       "3990   2023. 4. 14. 12:05  [캐시워크, 캐시워크돈버는퀴즈, 캐시워크정답, 캐시워크정답모음, 캐시워크쿠폰, 캐시...   \n",
       "3991    2022. 11. 8. 9:08  [캐시워크, 캐시워크, 다채로운, 뷰티컬리, 뷰티컬리, 뷰티컬리, 컷슬린, 부원료,...   \n",
       "\n",
       "      importance Extracted_Keywords  \n",
       "0           25.0       [성공, 설정, 증정]  \n",
       "1            0.0      [런칭, 영역, 알갱이]  \n",
       "2           26.0       [걱정, 증정, 선택]  \n",
       "3           11.0   [라이프스타일, 인생, 과정]  \n",
       "4           12.0      [걱정, 증정, 선인장]  \n",
       "...          ...                ...  \n",
       "3987         6.0      [추천, 선착순, 성공]  \n",
       "3988         7.0      [걱정, 증정, 선착순]  \n",
       "3989        11.0      [마스터, 걱정, 망상]  \n",
       "3990         6.0      [성공, 선착순, 견적]  \n",
       "3991         0.0     [인정, 럭셔리, 립스틱]  \n",
       "\n",
       "[3992 rows x 4 columns]"
      ]
     },
     "execution_count": 8,
     "metadata": {},
     "output_type": "execute_result"
    }
   ],
   "source": [
    "def convert_to_list(string):\n",
    "    return string.strip(\"[]\").replace(\"'\", \"\").split(\", \")\n",
    "\n",
    "# apply 함수를 사용하여 데이터 변환\n",
    "datetime_keyword_hashtags_importance_df['hashtags'] = datetime_keyword_hashtags_importance_df['hashtags'].apply(convert_to_list)\n",
    "\n",
    "\n",
    "datetime_keyword_hashtags_importance_df"
   ]
  },
  {
   "cell_type": "code",
   "execution_count": 16,
   "id": "64d666e8",
   "metadata": {},
   "outputs": [],
   "source": [
    "datetime_keyword_hashtags_importance_df.to_csv('datetime_keyword_hashtags_importance_beauty.csv', encoding='utf-8', index=False)"
   ]
  }
 ],
 "metadata": {
  "kernelspec": {
   "display_name": "Python 3",
   "language": "python",
   "name": "python3"
  },
  "language_info": {
   "codemirror_mode": {
    "name": "ipython",
    "version": 3
   },
   "file_extension": ".py",
   "mimetype": "text/x-python",
   "name": "python",
   "nbconvert_exporter": "python",
   "pygments_lexer": "ipython3",
   "version": "3.10.11"
  }
 },
 "nbformat": 4,
 "nbformat_minor": 5
}
