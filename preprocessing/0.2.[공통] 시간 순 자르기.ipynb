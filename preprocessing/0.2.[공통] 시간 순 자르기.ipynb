{
 "cells": [
  {
   "cell_type": "markdown",
   "metadata": {},
   "source": [
    "+ 블로그 포스팅 데이터는 데이터의 수가 많기 때문에 시각화에 불편함이 존재함.\n",
    "+ 따라서 지식 그래프를 생성할 때는 한 달 단위로 나누어서 생성하도록 하였음. "
   ]
  },
  {
   "cell_type": "code",
   "execution_count": 1,
   "id": "initial_id",
   "metadata": {
    "ExecuteTime": {
     "end_time": "2023-11-10T13:14:15.080158800Z",
     "start_time": "2023-11-10T13:14:14.806452300Z"
    },
    "collapsed": true
   },
   "outputs": [],
   "source": [
    "import pandas as pd\n",
    "\n",
    "file_path = 'datetime_keywords_hashtags_importance_market.csv'\n",
    "df = pd.read_csv(file_path)\n",
    "\n",
    "# 시간정렬\n",
    "df['datetime'] = pd.to_datetime(df['datetime'])\n",
    "df_sorted = df.sort_values(by='datetime')\n",
    "\n",
    "# 입력한날짜 만큼 컷팅\n",
    "start_date = '2023-07-01'\n",
    "end_date = '2023-07-31'\n",
    "filtered_df = df_sorted[(df_sorted['datetime'] >= start_date) & (df_sorted['datetime'] <= end_date)]\n",
    "\n",
    "# 저장\n",
    "output_file_path = 'Market_7.csv'\n",
    "filtered_df.to_csv(output_file_path, index=False)"
   ]
  },
  {
   "cell_type": "code",
   "execution_count": null,
   "metadata": {},
   "outputs": [],
   "source": []
  }
 ],
 "metadata": {
  "kernelspec": {
   "display_name": "Python 3",
   "language": "python",
   "name": "python3"
  },
  "language_info": {
   "codemirror_mode": {
    "name": "ipython",
    "version": 3
   },
   "file_extension": ".py",
   "mimetype": "text/x-python",
   "name": "python",
   "nbconvert_exporter": "python",
   "pygments_lexer": "ipython3",
   "version": "3.10.11"
  }
 },
 "nbformat": 4,
 "nbformat_minor": 5
}
