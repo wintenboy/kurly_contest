{
 "cells": [
  {
   "cell_type": "code",
   "execution_count": 27,
   "id": "initial_id",
   "metadata": {
    "collapsed": true,
    "ExecuteTime": {
     "end_time": "2023-11-15T11:39:01.815558600Z",
     "start_time": "2023-11-15T11:38:59.233166Z"
    }
   },
   "outputs": [],
   "source": [
    "from keybert import KeyBERT\n",
    "from kiwipiepy import Kiwi\n",
    "from transformers import BertModel\n",
    "from tqdm import tqdm\n",
    "import pandas as pd\n",
    "\n",
    "# 모델 초기화\n",
    "model = BertModel.from_pretrained('skt/kobert-base-v1')  # 한국어 BERT 모델을 로드합니다.\n",
    "kw_model = KeyBERT(model)  # KeyBERT 모델을 초기화합니다. 이 모델은 키워드 추출에 사용됩니다.\n",
    "kiwi = Kiwi()  # Kiwi 한국어 형태소 분석기를 초기화합니다.\n",
    "\n",
    "# Load the CSV file again\n",
    "data = pd.read_csv('preprocessed_total_reviews_beauty.csv')\n",
    "\n",
    "# Extracting each row from the 'preprocessed_content' column and storing it in a list\n",
    "content_list = data['preprocessed_content'].tolist()"
   ]
  },
  {
   "cell_type": "code",
   "execution_count": 40,
   "outputs": [
    {
     "name": "stderr",
     "output_type": "stream",
     "text": [
      "100%|██████████| 1000/1000 [00:13<00:00, 73.91it/s]\n"
     ]
    }
   ],
   "source": [
    "# 명사 추출 함수\n",
    "def noun_extractor(text):\n",
    "    results = []\n",
    "    result = kiwi.analyze(text)  # 텍스트를 분석하여 형태소 분석 결과를 얻습니다.\n",
    "    for token, pos, _, _ in result[0][0]:\n",
    "        if len(token) != 1 and (pos.startswith('N') or pos.startswith('SL')):  # 명사와 외래어를 추출합니다.\n",
    "            results.append(token)\n",
    "    return results\n",
    "\n",
    "# 키워드 추출\n",
    "extracted_keywords = []\n",
    "for text in tqdm(data['content']):  # 데이터의 'content' 열을 순회하며 키워드를 추출합니다.\n",
    "    # 명사 추출\n",
    "    nouns = noun_extractor(text)\n",
    "    after_kiwi_text = ' '.join(nouns)\n",
    "    \n",
    "    # KeyBERT를 사용하여 키워드 추출\n",
    "    keywords = kw_model.extract_keywords(after_kiwi_text, keyphrase_ngram_range=(1, 1), stop_words=None, top_n=3)\n",
    "    extracted_keywords.append(keywords)\n",
    "\n",
    "# 추출된 키워드에서 단어만 추출\n",
    "words_only = [[keyword[0] for keyword in keywords_list] for keywords_list in extracted_keywords]\n",
    "\n",
    "# 'preprocessed_category'와 'preprocessed_productname' 열을 합쳐서 새로운 열 생성\n",
    "data['Extracted_Keywords'] = data['preprocessed_category'] + \" \" + data['preprocessed_productname']\n",
    "\n",
    "# 기존 'hashtags' 열 유지\n",
    "# 'hashtags' 열은 이전과 같이 추출된 키워드를 해시태그 형태로 저장합니다.\n",
    "data['hashtags'] = [' '.join(keyword_list) for keyword_list in words_only]\n",
    "\n",
    "# 나머지 부분은 이전과 동일합니다...\n",
    "\n",
    "# 새로운 DataFrame 열 생성 및 수정\n",
    "data.rename(columns={'likes': 'importance'}, inplace=True)\n",
    "\n",
    "# datetime으로 정렬\n",
    "data['datetime'] = pd.to_datetime(data['datetime'])\n",
    "data.sort_values(by='datetime', inplace=True)"
   ],
   "metadata": {
    "collapsed": false,
    "ExecuteTime": {
     "end_time": "2023-11-15T11:57:19.266243800Z",
     "start_time": "2023-11-15T11:57:05.723590600Z"
    }
   },
   "id": "11874760cca85919"
  },
  {
   "cell_type": "code",
   "execution_count": 41,
   "outputs": [
    {
     "data": {
      "text/plain": "    category                         productname  \\\n701     스킨케어  [동국제약] 센텔리안24 마데카 마이크로 스타톡 세럼 50ml   \n950      클렌징       [아리얼] 스트레스 릴리빙 퓨어풀 클렌징 티슈 80매   \n411     메이크업                 [리르] 포크 아이브로우 틴트 4종   \n740     스킨케어                    [비플레인] 멀티 비타민 앰플   \n410     메이크업                 [리르] 포크 아이브로우 틴트 4종   \n\n                                               content  importance   datetime  \\\n701  요즘 컬리에서 행사가로 올려주시는 화장품들 덕분에\\r\\n심적 호강을 누리고 있는 저...         120 2021-10-23   \n950  저는 조금 클렌징만 덜 되도 바로 피부가 표시가 나는 ^^ 그런 민감하고 예민한 트...          16 2022-03-02   \n411  아침마다 눈썹 그리기 너무 귀찮다 생각하는 와중\\r\\n마침 세일도 하고 괜찮을것같아...          12 2022-04-21   \n740  앰플을 찾고있던 와중에 비플레인 멀티비타민 앰플이 세일하길래 바로 구매했어요!\\r\\...           6 2022-05-25   \n410  어제 오후에 구입하고 오늘 새벽에 받았어요. 뷰티제품도 새벽 배송인지 몰랐는데, 아...          23 2022-06-15   \n\n    preprocessed_category  preprocessed_productname  \\\n701                  스킨케어     동국제약 마데카 마이크로 스타톡 세럼    \n950                   클렌징  아리얼 스트레스 릴리빙 퓨어풀 클렌징 티슈    \n411                  메이크업           리르 포크 아이브로우 틴트    \n740                  스킨케어            비플레인 멀티 비타민 앰플   \n410                  메이크업           리르 포크 아이브로우 틴트    \n\n                                  preprocessed_content  \\\n701  요즘 컬리 에서 행사 가로 올려주시는 화장품 들 덕분 에 심 적 호강 누리 고 있는...   \n950  저 는 조금 클렌징 만 덜 되도 바로 피부 가 표시 가 나 는 그런 민감하고 예민한...   \n411  아침 마다 눈썹 그리기 너무 귀찮다 생각 하는 와중 마침 세 일도 하고 괜찮을것 같...   \n740  앰플 찾고있던 와중 에 비 플레인 멀티 비타민 앰플 세 일하길래 바로 구매 했어요 ...   \n410  어제 오후 에 구입 하고 오늘 새벽 에 받았어요 뷰티 제품 도 새벽 배송 인지 몰랐...   \n\n                      Extracted_Keywords        hashtags  \n701     [스킨케어, 동국제약, 마데카, 마이크로, 스타톡, 세럼]  [화장품, 쫀득이, 향도]  \n950  [클렌징, 아리얼, 스트레스, 릴리빙, 퓨어풀, 클렌징, 티슈]    [피부, 얼굴, 표시]  \n411            [메이크업, 리르, 포크, 아이브로우, 틴트]    [뭉퉁, 짱구, 조금]  \n740            [스킨케어, 비플레인, 멀티, 비타민, 앰플]   [비타민, 영양, 피부]  \n410            [메이크업, 리르, 포크, 아이브로우, 틴트]   [컬러, 그레이, 헤어]  ",
      "text/html": "<div>\n<style scoped>\n    .dataframe tbody tr th:only-of-type {\n        vertical-align: middle;\n    }\n\n    .dataframe tbody tr th {\n        vertical-align: top;\n    }\n\n    .dataframe thead th {\n        text-align: right;\n    }\n</style>\n<table border=\"1\" class=\"dataframe\">\n  <thead>\n    <tr style=\"text-align: right;\">\n      <th></th>\n      <th>category</th>\n      <th>productname</th>\n      <th>content</th>\n      <th>importance</th>\n      <th>datetime</th>\n      <th>preprocessed_category</th>\n      <th>preprocessed_productname</th>\n      <th>preprocessed_content</th>\n      <th>Extracted_Keywords</th>\n      <th>hashtags</th>\n    </tr>\n  </thead>\n  <tbody>\n    <tr>\n      <th>701</th>\n      <td>스킨케어</td>\n      <td>[동국제약] 센텔리안24 마데카 마이크로 스타톡 세럼 50ml</td>\n      <td>요즘 컬리에서 행사가로 올려주시는 화장품들 덕분에\\r\\n심적 호강을 누리고 있는 저...</td>\n      <td>120</td>\n      <td>2021-10-23</td>\n      <td>스킨케어</td>\n      <td>동국제약 마데카 마이크로 스타톡 세럼</td>\n      <td>요즘 컬리 에서 행사 가로 올려주시는 화장품 들 덕분 에 심 적 호강 누리 고 있는...</td>\n      <td>[스킨케어, 동국제약, 마데카, 마이크로, 스타톡, 세럼]</td>\n      <td>[화장품, 쫀득이, 향도]</td>\n    </tr>\n    <tr>\n      <th>950</th>\n      <td>클렌징</td>\n      <td>[아리얼] 스트레스 릴리빙 퓨어풀 클렌징 티슈 80매</td>\n      <td>저는 조금 클렌징만 덜 되도 바로 피부가 표시가 나는 ^^ 그런 민감하고 예민한 트...</td>\n      <td>16</td>\n      <td>2022-03-02</td>\n      <td>클렌징</td>\n      <td>아리얼 스트레스 릴리빙 퓨어풀 클렌징 티슈</td>\n      <td>저 는 조금 클렌징 만 덜 되도 바로 피부 가 표시 가 나 는 그런 민감하고 예민한...</td>\n      <td>[클렌징, 아리얼, 스트레스, 릴리빙, 퓨어풀, 클렌징, 티슈]</td>\n      <td>[피부, 얼굴, 표시]</td>\n    </tr>\n    <tr>\n      <th>411</th>\n      <td>메이크업</td>\n      <td>[리르] 포크 아이브로우 틴트 4종</td>\n      <td>아침마다 눈썹 그리기 너무 귀찮다 생각하는 와중\\r\\n마침 세일도 하고 괜찮을것같아...</td>\n      <td>12</td>\n      <td>2022-04-21</td>\n      <td>메이크업</td>\n      <td>리르 포크 아이브로우 틴트</td>\n      <td>아침 마다 눈썹 그리기 너무 귀찮다 생각 하는 와중 마침 세 일도 하고 괜찮을것 같...</td>\n      <td>[메이크업, 리르, 포크, 아이브로우, 틴트]</td>\n      <td>[뭉퉁, 짱구, 조금]</td>\n    </tr>\n    <tr>\n      <th>740</th>\n      <td>스킨케어</td>\n      <td>[비플레인] 멀티 비타민 앰플</td>\n      <td>앰플을 찾고있던 와중에 비플레인 멀티비타민 앰플이 세일하길래 바로 구매했어요!\\r\\...</td>\n      <td>6</td>\n      <td>2022-05-25</td>\n      <td>스킨케어</td>\n      <td>비플레인 멀티 비타민 앰플</td>\n      <td>앰플 찾고있던 와중 에 비 플레인 멀티 비타민 앰플 세 일하길래 바로 구매 했어요 ...</td>\n      <td>[스킨케어, 비플레인, 멀티, 비타민, 앰플]</td>\n      <td>[비타민, 영양, 피부]</td>\n    </tr>\n    <tr>\n      <th>410</th>\n      <td>메이크업</td>\n      <td>[리르] 포크 아이브로우 틴트 4종</td>\n      <td>어제 오후에 구입하고 오늘 새벽에 받았어요. 뷰티제품도 새벽 배송인지 몰랐는데, 아...</td>\n      <td>23</td>\n      <td>2022-06-15</td>\n      <td>메이크업</td>\n      <td>리르 포크 아이브로우 틴트</td>\n      <td>어제 오후 에 구입 하고 오늘 새벽 에 받았어요 뷰티 제품 도 새벽 배송 인지 몰랐...</td>\n      <td>[메이크업, 리르, 포크, 아이브로우, 틴트]</td>\n      <td>[컬러, 그레이, 헤어]</td>\n    </tr>\n  </tbody>\n</table>\n</div>"
     },
     "execution_count": 41,
     "metadata": {},
     "output_type": "execute_result"
    }
   ],
   "source": [
    "#각 단어 마다 , 추가\n",
    "def add_commas(string):\n",
    "    # Split the string by spaces and join with commas\n",
    "    return ', '.join(string.split())\n",
    "\n",
    "# commas 함수를 hashtags와 \n",
    "data['hashtags'] = data['hashtags'].apply(add_commas)\n",
    "data['Extracted_Keywords'] = data['Extracted_Keywords'].apply(add_commas)\n",
    "\n",
    "# 처음과 끝에 ' [ '와 ' ] '추가 하는 함수를 hashtags와 Extracted_Keyword에 적용\n",
    "def add_brackets(string):\n",
    "    return f'[{string}]'\n",
    "\n",
    "# 괄호 추가 함수를 hashtags와 Extracted_Keyword에 적용\n",
    "data['hashtags'] = data['hashtags'].apply(add_brackets)\n",
    "data['Extracted_Keywords'] = data['Extracted_Keywords'].apply(add_brackets)\n",
    "\n",
    "# Display the modified dataframe\n",
    "data.head()"
   ],
   "metadata": {
    "collapsed": false,
    "ExecuteTime": {
     "end_time": "2023-11-15T11:57:36.121712300Z",
     "start_time": "2023-11-15T11:57:36.098769300Z"
    }
   },
   "id": "305c4196e674e0e0"
  },
  {
   "cell_type": "code",
   "execution_count": 47,
   "outputs": [
    {
     "data": {
      "text/plain": "'C:/Users/kgw57/PycharmProjects/data_contest/keyword_review/datetime_hashtags_importance_keywords_beauty.csv'"
     },
     "execution_count": 47,
     "metadata": {},
     "output_type": "execute_result"
    }
   ],
   "source": [
    "# 특정 열 선택 및 새 CSV 파일로 저장\n",
    "final_data = data[['datetime', 'hashtags', 'importance', 'Extracted_Keywords']]\n",
    "\n",
    "# importance가 0 보다 큰 값만 저장\n",
    "final_data = final_data[final_data['importance'] > 0]\n",
    "\n",
    "final_csv_path = 'C:/Users/kgw57/PycharmProjects/data_contest/keyword_review/datetime_hashtags_importance_keywords_beauty.csv'\n",
    "final_data.to_csv(final_csv_path, index=False)  # 선택된 열을 새 CSV 파일로 저장합니다.\n",
    "\n",
    "final_csv_path"
   ],
   "metadata": {
    "collapsed": false,
    "ExecuteTime": {
     "end_time": "2023-11-15T13:22:21.369666Z",
     "start_time": "2023-11-15T13:22:21.341844700Z"
    }
   },
   "id": "309696e8ce0b64ed"
  },
  {
   "cell_type": "code",
   "execution_count": null,
   "outputs": [],
   "source": [],
   "metadata": {
    "collapsed": false
   },
   "id": "ab11b8852933b9fb"
  }
 ],
 "metadata": {
  "kernelspec": {
   "display_name": "Python 3",
   "language": "python",
   "name": "python3"
  },
  "language_info": {
   "codemirror_mode": {
    "name": "ipython",
    "version": 2
   },
   "file_extension": ".py",
   "mimetype": "text/x-python",
   "name": "python",
   "nbconvert_exporter": "python",
   "pygments_lexer": "ipython2",
   "version": "2.7.6"
  }
 },
 "nbformat": 4,
 "nbformat_minor": 5
}
