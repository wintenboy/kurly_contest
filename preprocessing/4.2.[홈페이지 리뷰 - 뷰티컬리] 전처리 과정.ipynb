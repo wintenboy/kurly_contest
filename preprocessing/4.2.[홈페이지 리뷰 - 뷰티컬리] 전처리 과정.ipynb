{
 "cells": [
  {
   "cell_type": "code",
   "execution_count": 13,
   "id": "initial_id",
   "metadata": {
    "collapsed": true,
    "ExecuteTime": {
     "end_time": "2023-11-14T16:03:00.594628200Z",
     "start_time": "2023-11-14T16:03:00.571828100Z"
    }
   },
   "outputs": [
    {
     "data": {
      "text/plain": "  category                                        productname  \\\n0     헤어케어  [케라스타즈] 시몽 테르미크 150ml [No.1 헤어에센스](마이뷰티박스 가입일 ...   \n1     헤어케어  [케라스타즈] 시몽 테르미크 150ml [No.1 헤어에센스](마이뷰티박스 가입일 ...   \n2     헤어케어  [케라스타즈] 시몽 테르미크 150ml [No.1 헤어에센스](마이뷰티박스 가입일 ...   \n3     헤어케어  [케라스타즈] 시몽 테르미크 150ml [No.1 헤어에센스](마이뷰티박스 가입일 ...   \n4     헤어케어  [케라스타즈] 시몽 테르미크 150ml [No.1 헤어에센스](마이뷰티박스 가입일 ...   \n\n                                             content  likes    datetime  \n0                                      오 비싼 값해서 놀랐어요      0  2023.11.09  \n1  우연히 받은 샘플을 써보고 좋아서 구매하게 됐어요...샘플도 같이 들어있네요~ 좋아요~~      0  2023.11.09  \n2          비싸지만 그래도 컬리에서 사는게 다른 직배송보다 저렴하길래 여기서 구매^^      0  2023.11.08  \n3                                      유명하대서 샀는데 비싸요      0  2023.11.06  \n4                                  향기가 좋고  촉촉하고 좋아요       0  2023.11.03  ",
      "text/html": "<div>\n<style scoped>\n    .dataframe tbody tr th:only-of-type {\n        vertical-align: middle;\n    }\n\n    .dataframe tbody tr th {\n        vertical-align: top;\n    }\n\n    .dataframe thead th {\n        text-align: right;\n    }\n</style>\n<table border=\"1\" class=\"dataframe\">\n  <thead>\n    <tr style=\"text-align: right;\">\n      <th></th>\n      <th>category</th>\n      <th>productname</th>\n      <th>content</th>\n      <th>likes</th>\n      <th>datetime</th>\n    </tr>\n  </thead>\n  <tbody>\n    <tr>\n      <th>0</th>\n      <td>헤어케어</td>\n      <td>[케라스타즈] 시몽 테르미크 150ml [No.1 헤어에센스](마이뷰티박스 가입일 ...</td>\n      <td>오 비싼 값해서 놀랐어요</td>\n      <td>0</td>\n      <td>2023.11.09</td>\n    </tr>\n    <tr>\n      <th>1</th>\n      <td>헤어케어</td>\n      <td>[케라스타즈] 시몽 테르미크 150ml [No.1 헤어에센스](마이뷰티박스 가입일 ...</td>\n      <td>우연히 받은 샘플을 써보고 좋아서 구매하게 됐어요...샘플도 같이 들어있네요~ 좋아요~~</td>\n      <td>0</td>\n      <td>2023.11.09</td>\n    </tr>\n    <tr>\n      <th>2</th>\n      <td>헤어케어</td>\n      <td>[케라스타즈] 시몽 테르미크 150ml [No.1 헤어에센스](마이뷰티박스 가입일 ...</td>\n      <td>비싸지만 그래도 컬리에서 사는게 다른 직배송보다 저렴하길래 여기서 구매^^</td>\n      <td>0</td>\n      <td>2023.11.08</td>\n    </tr>\n    <tr>\n      <th>3</th>\n      <td>헤어케어</td>\n      <td>[케라스타즈] 시몽 테르미크 150ml [No.1 헤어에센스](마이뷰티박스 가입일 ...</td>\n      <td>유명하대서 샀는데 비싸요</td>\n      <td>0</td>\n      <td>2023.11.06</td>\n    </tr>\n    <tr>\n      <th>4</th>\n      <td>헤어케어</td>\n      <td>[케라스타즈] 시몽 테르미크 150ml [No.1 헤어에센스](마이뷰티박스 가입일 ...</td>\n      <td>향기가 좋고  촉촉하고 좋아요</td>\n      <td>0</td>\n      <td>2023.11.03</td>\n    </tr>\n  </tbody>\n</table>\n</div>"
     },
     "execution_count": 13,
     "metadata": {},
     "output_type": "execute_result"
    }
   ],
   "source": [
    "import pandas as pd\n",
    "from konlpy.tag import Okt\n",
    "import re\n",
    "\n",
    "market_reviews_df = pd.read_csv('total_reviews_beauty.csv', encoding = 'utf-8')\n",
    "market_reviews_df.head()"
   ]
  },
  {
   "cell_type": "code",
   "execution_count": 29,
   "outputs": [],
   "source": [
    "def preprocess_text(text):\n",
    "    # 1. 텍스트 정규화\n",
    "    text = text.lower() # 모두 소문자로 변환\n",
    "    text = re.sub(r'[^\\w\\s]', ' ', text) # 문장 부호 및 특수 문자 제거\n",
    "\n",
    "    # 2. 숫자+단위, 단위+ 숫자 제거\n",
    "    text = re.sub(r'\\d+[가-힣]+', '', text) # Remove patterns like 숫자+단위\n",
    "    text = re.sub(r'[가-힣]+\\d+', '', text) # Remove patterns like 단위+숫자\n",
    "\n",
    "    # 3. 2회 이상 띄어스기 제거\n",
    "    text = re.sub(r'\\s+', ' ', text)\n",
    "    \n",
    "    # 4. Tokenization and stemming\n",
    "    okt = Okt()\n",
    "    tokens = okt.morphs(text)\n",
    "\n",
    "    # 5. 불용어 제거\n",
    "    stopwords = ['이', '그', '것', '의', '을', '를', '와', '과']\n",
    "    filtered_tokens = [word for word in tokens if word not in stopwords]\n",
    "\n",
    "    return ' '.join(filtered_tokens)\n",
    "\n",
    "def preprocess_product_name(text):\n",
    "    #1. 숫자+단위, 단위+ 숫자 제거\n",
    "    text = re.sub(r'\\d+[가-힣]+', '', text) # Remove patterns like 숫자+단위\n",
    "    text = re.sub(r'[가-힣]+\\d+', '', text) # Remove patterns like 단위+숫자\n",
    "    \n",
    "    #2. 제품 이름에서 특수 문자와 숫자 영어 제거\n",
    "    text = re.sub(r'[^가-힣\\s]', '', text) # 한글과 영문자만 남기고 제거\n",
    "    \n",
    "    #3. 구매 시 제거\n",
    "    text = re.sub(r'구매 시', ' ', text)\n",
    "    \n",
    "    #4. 2회 이상 띄어스기 제거\n",
    "    text = re.sub(r'\\s+', ' ', text)\n",
    "    \n",
    "    return text\n",
    "\n",
    "# CSV 파일 로드\n",
    "df = pd.read_csv('C:/Users/kgw57/PycharmProjects/data_contest/preprocessed_review/total_reviews_beauty.csv')\n",
    "\n",
    "# 데이터 전처리 및 새로운 열 생성\n",
    "df['preprocessed_category'] = df['category'].apply(preprocess_product_name)\n",
    "df['preprocessed_productname'] = df['productname'].apply(preprocess_product_name) \n",
    "df['preprocessed_content'] = df['content'].apply(preprocess_text)\n",
    "\n",
    "# CSV 파일로 저장\n",
    "df.to_csv('C:/Users/kgw57/PycharmProjects/data_contest/preprocessed_review/preprocessed_total_reviews_beauty.csv', index=False)"
   ],
   "metadata": {
    "collapsed": false,
    "ExecuteTime": {
     "end_time": "2023-11-14T17:39:40.346966400Z",
     "start_time": "2023-11-14T17:39:38.997040200Z"
    }
   },
   "id": "80d3a787c8117387"
  },
  {
   "cell_type": "code",
   "execution_count": 28,
   "outputs": [
    {
     "data": {
      "text/plain": "  category                                        productname  \\\n0     헤어케어  [케라스타즈] 시몽 테르미크 150ml [No.1 헤어에센스](마이뷰티박스 가입일 ...   \n1     헤어케어  [케라스타즈] 시몽 테르미크 150ml [No.1 헤어에센스](마이뷰티박스 가입일 ...   \n2     헤어케어  [케라스타즈] 시몽 테르미크 150ml [No.1 헤어에센스](마이뷰티박스 가입일 ...   \n3     헤어케어  [케라스타즈] 시몽 테르미크 150ml [No.1 헤어에센스](마이뷰티박스 가입일 ...   \n4     헤어케어  [케라스타즈] 시몽 테르미크 150ml [No.1 헤어에센스](마이뷰티박스 가입일 ...   \n\n                                             content  likes    datetime  \\\n0                                      오 비싼 값해서 놀랐어요      0  2023.11.09   \n1  우연히 받은 샘플을 써보고 좋아서 구매하게 됐어요...샘플도 같이 들어있네요~ 좋아요~~      0  2023.11.09   \n2          비싸지만 그래도 컬리에서 사는게 다른 직배송보다 저렴하길래 여기서 구매^^      0  2023.11.08   \n3                                      유명하대서 샀는데 비싸요      0  2023.11.06   \n4                                  향기가 좋고  촉촉하고 좋아요       0  2023.11.03   \n\n  preprocessed_category          preprocessed_productname  \\\n0                 헤어 케어  케라스타즈 시몽 테르미크 헤어에센스마이뷰티박스 가입일 적립   \n1                 헤어 케어  케라스타즈 시몽 테르미크 헤어에센스마이뷰티박스 가입일 적립   \n2                 헤어 케어  케라스타즈 시몽 테르미크 헤어에센스마이뷰티박스 가입일 적립   \n3                 헤어 케어  케라스타즈 시몽 테르미크 헤어에센스마이뷰티박스 가입일 적립   \n4                 헤어 케어  케라스타즈 시몽 테르미크 헤어에센스마이뷰티박스 가입일 적립   \n\n                             preprocessed_content  \n0                                  오 비싼 값 해서 놀랐어요  \n1  우연히 받은 샘플 써 보고 좋아서 구매 하게 됐어요 샘플 도 같이 들어있네요 좋아요  \n2     비싸지만 그래도 컬리 에서 사는게 다른 직 배송 보다 저렴하길래 여기 서 구매  \n3                                  유명하 대서 샀는데 비싸요  \n4                                향기 가 좋고 촉촉하고 좋아요  ",
      "text/html": "<div>\n<style scoped>\n    .dataframe tbody tr th:only-of-type {\n        vertical-align: middle;\n    }\n\n    .dataframe tbody tr th {\n        vertical-align: top;\n    }\n\n    .dataframe thead th {\n        text-align: right;\n    }\n</style>\n<table border=\"1\" class=\"dataframe\">\n  <thead>\n    <tr style=\"text-align: right;\">\n      <th></th>\n      <th>category</th>\n      <th>productname</th>\n      <th>content</th>\n      <th>likes</th>\n      <th>datetime</th>\n      <th>preprocessed_category</th>\n      <th>preprocessed_productname</th>\n      <th>preprocessed_content</th>\n    </tr>\n  </thead>\n  <tbody>\n    <tr>\n      <th>0</th>\n      <td>헤어케어</td>\n      <td>[케라스타즈] 시몽 테르미크 150ml [No.1 헤어에센스](마이뷰티박스 가입일 ...</td>\n      <td>오 비싼 값해서 놀랐어요</td>\n      <td>0</td>\n      <td>2023.11.09</td>\n      <td>헤어 케어</td>\n      <td>케라스타즈 시몽 테르미크 헤어에센스마이뷰티박스 가입일 적립</td>\n      <td>오 비싼 값 해서 놀랐어요</td>\n    </tr>\n    <tr>\n      <th>1</th>\n      <td>헤어케어</td>\n      <td>[케라스타즈] 시몽 테르미크 150ml [No.1 헤어에센스](마이뷰티박스 가입일 ...</td>\n      <td>우연히 받은 샘플을 써보고 좋아서 구매하게 됐어요...샘플도 같이 들어있네요~ 좋아요~~</td>\n      <td>0</td>\n      <td>2023.11.09</td>\n      <td>헤어 케어</td>\n      <td>케라스타즈 시몽 테르미크 헤어에센스마이뷰티박스 가입일 적립</td>\n      <td>우연히 받은 샘플 써 보고 좋아서 구매 하게 됐어요 샘플 도 같이 들어있네요 좋아요</td>\n    </tr>\n    <tr>\n      <th>2</th>\n      <td>헤어케어</td>\n      <td>[케라스타즈] 시몽 테르미크 150ml [No.1 헤어에센스](마이뷰티박스 가입일 ...</td>\n      <td>비싸지만 그래도 컬리에서 사는게 다른 직배송보다 저렴하길래 여기서 구매^^</td>\n      <td>0</td>\n      <td>2023.11.08</td>\n      <td>헤어 케어</td>\n      <td>케라스타즈 시몽 테르미크 헤어에센스마이뷰티박스 가입일 적립</td>\n      <td>비싸지만 그래도 컬리 에서 사는게 다른 직 배송 보다 저렴하길래 여기 서 구매</td>\n    </tr>\n    <tr>\n      <th>3</th>\n      <td>헤어케어</td>\n      <td>[케라스타즈] 시몽 테르미크 150ml [No.1 헤어에센스](마이뷰티박스 가입일 ...</td>\n      <td>유명하대서 샀는데 비싸요</td>\n      <td>0</td>\n      <td>2023.11.06</td>\n      <td>헤어 케어</td>\n      <td>케라스타즈 시몽 테르미크 헤어에센스마이뷰티박스 가입일 적립</td>\n      <td>유명하 대서 샀는데 비싸요</td>\n    </tr>\n    <tr>\n      <th>4</th>\n      <td>헤어케어</td>\n      <td>[케라스타즈] 시몽 테르미크 150ml [No.1 헤어에센스](마이뷰티박스 가입일 ...</td>\n      <td>향기가 좋고  촉촉하고 좋아요</td>\n      <td>0</td>\n      <td>2023.11.03</td>\n      <td>헤어 케어</td>\n      <td>케라스타즈 시몽 테르미크 헤어에센스마이뷰티박스 가입일 적립</td>\n      <td>향기 가 좋고 촉촉하고 좋아요</td>\n    </tr>\n  </tbody>\n</table>\n</div>"
     },
     "execution_count": 28,
     "metadata": {},
     "output_type": "execute_result"
    }
   ],
   "source": [
    "df.head()"
   ],
   "metadata": {
    "collapsed": false,
    "ExecuteTime": {
     "end_time": "2023-11-14T16:12:09.238026200Z",
     "start_time": "2023-11-14T16:12:09.225051200Z"
    }
   },
   "id": "3d9a2487304e8dfe"
  },
  {
   "cell_type": "code",
   "execution_count": null,
   "outputs": [],
   "source": [],
   "metadata": {
    "collapsed": false
   },
   "id": "f9ebc59d3879d09c"
  }
 ],
 "metadata": {
  "kernelspec": {
   "display_name": "Python 3",
   "language": "python",
   "name": "python3"
  },
  "language_info": {
   "codemirror_mode": {
    "name": "ipython",
    "version": 2
   },
   "file_extension": ".py",
   "mimetype": "text/x-python",
   "name": "python",
   "nbconvert_exporter": "python",
   "pygments_lexer": "ipython2",
   "version": "2.7.6"
  }
 },
 "nbformat": 4,
 "nbformat_minor": 5
}
