{
 "cells": [
  {
   "cell_type": "code",
   "execution_count": 8,
   "id": "initial_id",
   "metadata": {
    "ExecuteTime": {
     "end_time": "2023-11-13T16:35:36.851406200Z",
     "start_time": "2023-11-13T16:35:36.822620Z"
    },
    "collapsed": true
   },
   "outputs": [
    {
     "data": {
      "text/plain": [
       "'C:/Users/kgw57/PycharmProjects/data_contest/review_beauty/total_reviews_beauty.csv'"
      ]
     },
     "execution_count": 8,
     "metadata": {},
     "output_type": "execute_result"
    }
   ],
   "source": [
    "import pandas as pd\n",
    "\n",
    "# csv로드\n",
    "files = [\n",
    "    \"C:/Users/kgw57/PycharmProjects/data_contest/review_beauty/reviews_beauty_헤어케어.csv\",\n",
    "    \"C:/Users/kgw57/PycharmProjects/data_contest/review_beauty/reviews_beauty_구강_위생용품.csv\",\n",
    "    \"C:/Users/kgw57/PycharmProjects/data_contest/review_beauty/reviews_beauty_남성화장품.csv\",\n",
    "    \"C:/Users/kgw57/PycharmProjects/data_contest/review_beauty/reviews_beauty_럭셔리뷰티.csv\",\n",
    "    \"C:/Users/kgw57/PycharmProjects/data_contest/review_beauty/reviews_beauty_메이크업.csv\",\n",
    "    \"C:/Users/kgw57/PycharmProjects/data_contest/review_beauty/reviews_beauty_바디케어.csv\",\n",
    "    \"C:/Users/kgw57/PycharmProjects/data_contest/review_beauty/reviews_beauty_뷰티소품_기기.csv\",\n",
    "    \"C:/Users/kgw57/PycharmProjects/data_contest/review_beauty/reviews_beauty_선케어.csv\",\n",
    "    \"C:/Users/kgw57/PycharmProjects/data_contest/review_beauty/reviews_beauty_스킨케어.csv\",\n",
    "    \"C:/Users/kgw57/PycharmProjects/data_contest/review_beauty/reviews_beauty_유아_아동.csv\",\n",
    "    \"C:/Users/kgw57/PycharmProjects/data_contest/review_beauty/reviews_beauty_클렌징.csv\"\n",
    "]\n",
    "\n",
    "\n",
    "total_reviews = pd.DataFrame()\n",
    "\n",
    "for file in files:\n",
    "    df = pd.read_csv(file)\n",
    "    total_reviews = pd.concat([total_reviews, df], ignore_index=True)\n",
    "\n",
    "# 저장\n",
    "output_file = \"total_reviews_beauty.csv\"\n",
    "total_reviews.to_csv(output_file, index=False)\n",
    "\n",
    "output_file"
   ]
  },
  {
   "cell_type": "code",
   "execution_count": 9,
   "id": "8a70a0d1308dec4f",
   "metadata": {
    "ExecuteTime": {
     "end_time": "2023-11-13T16:35:40.237223700Z",
     "start_time": "2023-11-13T16:35:40.207031700Z"
    },
    "collapsed": false
   },
   "outputs": [],
   "source": [
    "# 데이터 로드\n",
    "file_path = \"total_reviews_beauty.csv\"\n",
    "df = pd.read_csv(file_path)\n",
    "\n",
    "# Likes '도움돼요'제거\n",
    "def transform_likes(value):\n",
    "    parts = value.split()\n",
    "    if len(parts) > 1 and parts[1].isdigit():\n",
    "        return int(parts[1])\n",
    "    else:\n",
    "        return 0\n",
    "\n",
    "df['Likes'] = df['Likes'].apply(transform_likes)\n",
    "\n",
    "df.head(100)\n",
    "\n",
    "output_file = \"total_reviews_beauty.csv\"\n",
    "df.to_csv(output_file, index=False)"
   ]
  }
 ],
 "metadata": {
  "kernelspec": {
   "display_name": "Python 3",
   "language": "python",
   "name": "python3"
  },
  "language_info": {
   "codemirror_mode": {
    "name": "ipython",
    "version": 2
   },
   "file_extension": ".py",
   "mimetype": "text/x-python",
   "name": "python",
   "nbconvert_exporter": "python",
   "pygments_lexer": "ipython2",
   "version": "2.7.6"
  }
 },
 "nbformat": 4,
 "nbformat_minor": 5
}
