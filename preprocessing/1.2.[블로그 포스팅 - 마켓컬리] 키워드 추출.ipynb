{
 "cells": [
  {
   "cell_type": "code",
   "execution_count": 2,
   "id": "90ace8f5b015fc40",
   "metadata": {
    "ExecuteTime": {
     "end_time": "2023-11-01T16:00:17.743584Z",
     "start_time": "2023-11-01T16:00:15.862918100Z"
    },
    "collapsed": false
   },
   "outputs": [
    {
     "data": {
      "text/plain": [
       "['리뷰 마켓 컬리 8 주년 위 크 역대 급 특 가 추천 상품 포도 계란 소고기 마트 보다 저렴하게 고 미리 레 마켓 컬리 8 주년 위 크 역대 급 특 가 추천 상품 포도 계란 소고기 마트 보다 저렴하게 안녕하세요 네이버 인 플루 언 서 고 미리 레 입니다 제 가 너무나 애정 하고 있는 마켓 컬리',\n",
       " '식품 리뷰 마켓 컬리 떡볶이 분식집 떡볶이 좋아하신다면 추억 국민학교 떡볶이 드셔 보세요 코 나 맘 지인 추천 해 준 마켓 컬리 떡볶이 추억 국민학교 떡볶이 에요 추억 국민학교 떡볶이 는 냉동식품 으로 조리법 엄청 간단해요 떡 어묵 기름 에 한번 볶아서 하면']"
      ]
     },
     "execution_count": 2,
     "metadata": {},
     "output_type": "execute_result"
    }
   ],
   "source": [
    "from keybert import KeyBERT\n",
    "from kiwipiepy import Kiwi\n",
    "from transformers import BertModel\n",
    "from tqdm import tqdm\n",
    "import pandas as pd\n",
    "model = BertModel.from_pretrained('skt/kobert-base-v1')\n",
    "kw_model = KeyBERT(model)\n",
    "\n",
    "# Load the CSV file again\n",
    "data = pd.read_csv('preprocessed_content_market.csv')\n",
    "\n",
    "# Extracting each row from the 'preprocessed_content' column and storing it in a list\n",
    "content_list = data['preprocessed_content'].tolist()\n",
    "\n",
    "# Displaying the first few items in the list to verify\n",
    "content_list[:2]"
   ]
  },
  {
   "cell_type": "code",
   "execution_count": 3,
   "id": "33d79d4c28b31f44",
   "metadata": {
    "ExecuteTime": {
     "end_time": "2023-11-01T16:10:38.287956700Z",
     "start_time": "2023-11-01T16:06:03.152972200Z"
    },
    "collapsed": false
   },
   "outputs": [
    {
     "name": "stderr",
     "output_type": "stream",
     "text": [
      "Downloading (…)e9125/.gitattributes: 100%|██████████| 1.18k/1.18k [00:00<00:00, 9.30MB/s]\n",
      "Downloading (…)_Pooling/config.json: 100%|██████████| 190/190 [00:00<00:00, 1.18MB/s]\n",
      "Downloading (…)7e55de9125/README.md: 100%|██████████| 10.6k/10.6k [00:00<00:00, 26.1MB/s]\n",
      "Downloading (…)55de9125/config.json: 100%|██████████| 612/612 [00:00<00:00, 2.74MB/s]\n",
      "Downloading (…)ce_transformers.json: 100%|██████████| 116/116 [00:00<00:00, 680kB/s]\n",
      "Downloading (…)125/data_config.json: 100%|██████████| 39.3k/39.3k [00:00<00:00, 31.7MB/s]\n",
      "Downloading pytorch_model.bin: 100%|██████████| 90.9M/90.9M [00:07<00:00, 11.6MB/s]\n",
      "Downloading (…)nce_bert_config.json: 100%|██████████| 53.0/53.0 [00:00<00:00, 190kB/s]\n",
      "Downloading (…)cial_tokens_map.json: 100%|██████████| 112/112 [00:00<00:00, 875kB/s]\n",
      "Downloading (…)e9125/tokenizer.json: 100%|██████████| 466k/466k [00:00<00:00, 1.31MB/s]\n",
      "Downloading (…)okenizer_config.json: 100%|██████████| 350/350 [00:00<00:00, 2.15MB/s]\n",
      "Downloading (…)9125/train_script.py: 100%|██████████| 13.2k/13.2k [00:00<00:00, 30.0MB/s]\n",
      "Downloading (…)7e55de9125/vocab.txt: 100%|██████████| 232k/232k [00:00<00:00, 1.27MB/s]\n",
      "Downloading (…)5de9125/modules.json: 100%|██████████| 349/349 [00:00<00:00, 1.80MB/s]\n",
      "100%|██████████| 3993/3993 [00:51<00:00, 77.59it/s]"
     ]
    },
    {
     "name": "stdout",
     "output_type": "stream",
     "text": [
      "[[('컬리', 0.5002), ('소고기', 0.4581), ('애정', 0.4579)], [('냉동식품', 0.5079), ('분식집', 0.475), ('국민학교', 0.4662)], [('컬리', 0.5529), ('키트', 0.4939), ('유저', 0.4168)], [('컬리', 0.5353), ('어시장', 0.531), ('모듬', 0.4543)], [('충성', 0.3416), ('쿠폰', 0.333), ('컬리', 0.3109)]]\n"
     ]
    },
    {
     "name": "stderr",
     "output_type": "stream",
     "text": [
      "\n"
     ]
    }
   ],
   "source": [
    "# Kiwi와 KeyBERT 모델 초기화\n",
    "kiwi = Kiwi()\n",
    "kw_model = KeyBERT()\n",
    "\n",
    "# 명사 추출 함수\n",
    "def noun_extractor(text):\n",
    "    results = []\n",
    "    result = kiwi.analyze(text)\n",
    "    for token, pos, _, _ in result[0][0]:\n",
    "        if len(token) != 1 and (pos.startswith('N') or pos.startswith('SL')):\n",
    "            results.append(token)\n",
    "    return results\n",
    "\n",
    "# 각 행의 텍스트에 대해 명사 추출 및 키워드 추출\n",
    "extracted_keywords = []\n",
    "for text in tqdm(content_list):\n",
    "    # 명사 추출\n",
    "    nouns = noun_extractor(text)\n",
    "    after_kiwi_text = ' '.join(nouns)\n",
    "    \n",
    "    # KeyBERT를 사용한 키워드 추출\n",
    "    preprocessed_content_keywords = kw_model.extract_keywords(after_kiwi_text, keyphrase_ngram_range=(1, 1), stop_words=None, top_n=3)\n",
    "    \n",
    "    # 추출된 키워드 저장\n",
    "    extracted_keywords.append(preprocessed_content_keywords)\n",
    "\n",
    "# 결과 출력\n",
    "print(extracted_keywords[:5])\n"
   ]
  },
  {
   "cell_type": "code",
   "execution_count": 4,
   "id": "b98dd761dd5ae713",
   "metadata": {
    "ExecuteTime": {
     "end_time": "2023-11-01T16:15:08.325999700Z",
     "start_time": "2023-11-01T16:15:08.305068800Z"
    },
    "collapsed": false
   },
   "outputs": [
    {
     "data": {
      "text/html": [
       "<div>\n",
       "<style scoped>\n",
       "    .dataframe tbody tr th:only-of-type {\n",
       "        vertical-align: middle;\n",
       "    }\n",
       "\n",
       "    .dataframe tbody tr th {\n",
       "        vertical-align: top;\n",
       "    }\n",
       "\n",
       "    .dataframe thead th {\n",
       "        text-align: right;\n",
       "    }\n",
       "</style>\n",
       "<table border=\"1\" class=\"dataframe\">\n",
       "  <thead>\n",
       "    <tr style=\"text-align: right;\">\n",
       "      <th></th>\n",
       "      <th>Extracted_Keywords</th>\n",
       "    </tr>\n",
       "  </thead>\n",
       "  <tbody>\n",
       "    <tr>\n",
       "      <th>0</th>\n",
       "      <td>[컬리, 소고기, 애정]</td>\n",
       "    </tr>\n",
       "    <tr>\n",
       "      <th>1</th>\n",
       "      <td>[냉동식품, 분식집, 국민학교]</td>\n",
       "    </tr>\n",
       "    <tr>\n",
       "      <th>2</th>\n",
       "      <td>[컬리, 키트, 유저]</td>\n",
       "    </tr>\n",
       "    <tr>\n",
       "      <th>3</th>\n",
       "      <td>[컬리, 어시장, 모듬]</td>\n",
       "    </tr>\n",
       "    <tr>\n",
       "      <th>4</th>\n",
       "      <td>[충성, 쿠폰, 컬리]</td>\n",
       "    </tr>\n",
       "  </tbody>\n",
       "</table>\n",
       "</div>"
      ],
      "text/plain": [
       "  Extracted_Keywords\n",
       "0      [컬리, 소고기, 애정]\n",
       "1  [냉동식품, 분식집, 국민학교]\n",
       "2       [컬리, 키트, 유저]\n",
       "3      [컬리, 어시장, 모듬]\n",
       "4       [충성, 쿠폰, 컬리]"
      ]
     },
     "execution_count": 4,
     "metadata": {},
     "output_type": "execute_result"
    }
   ],
   "source": [
    "# Extracting only the words from the extracted keywords\n",
    "words_only = [[keyword[0] for keyword in keywords_list] for keywords_list in extracted_keywords]\n",
    "\n",
    "# Creating a new DataFrame with the words only\n",
    "keywords_df = pd.DataFrame({\n",
    "    'Extracted_Keywords': words_only\n",
    "})\n",
    "\n",
    "keywords_df.head()"
   ]
  },
  {
   "cell_type": "code",
   "execution_count": 10,
   "id": "2863fe43",
   "metadata": {},
   "outputs": [
    {
     "data": {
      "text/html": [
       "<div>\n",
       "<style scoped>\n",
       "    .dataframe tbody tr th:only-of-type {\n",
       "        vertical-align: middle;\n",
       "    }\n",
       "\n",
       "    .dataframe tbody tr th {\n",
       "        vertical-align: top;\n",
       "    }\n",
       "\n",
       "    .dataframe thead th {\n",
       "        text-align: right;\n",
       "    }\n",
       "</style>\n",
       "<table border=\"1\" class=\"dataframe\">\n",
       "  <thead>\n",
       "    <tr style=\"text-align: right;\">\n",
       "      <th></th>\n",
       "      <th>importance</th>\n",
       "    </tr>\n",
       "  </thead>\n",
       "  <tbody>\n",
       "    <tr>\n",
       "      <th>0</th>\n",
       "      <td>56.0</td>\n",
       "    </tr>\n",
       "    <tr>\n",
       "      <th>1</th>\n",
       "      <td>6.0</td>\n",
       "    </tr>\n",
       "    <tr>\n",
       "      <th>2</th>\n",
       "      <td>83.0</td>\n",
       "    </tr>\n",
       "    <tr>\n",
       "      <th>3</th>\n",
       "      <td>6.0</td>\n",
       "    </tr>\n",
       "    <tr>\n",
       "      <th>4</th>\n",
       "      <td>10.0</td>\n",
       "    </tr>\n",
       "  </tbody>\n",
       "</table>\n",
       "</div>"
      ],
      "text/plain": [
       "   importance\n",
       "0        56.0\n",
       "1         6.0\n",
       "2        83.0\n",
       "3         6.0\n",
       "4        10.0"
      ]
     },
     "execution_count": 10,
     "metadata": {},
     "output_type": "execute_result"
    }
   ],
   "source": [
    "importance_df = pd.DataFrame()\n",
    "importance_df['importance'] = data['likes'].values + data['comments'].values\n",
    "importance_df.head()"
   ]
  },
  {
   "cell_type": "code",
   "execution_count": 11,
   "id": "dc41d07c7f2d28aa",
   "metadata": {
    "ExecuteTime": {
     "end_time": "2023-11-01T16:15:22.318412800Z",
     "start_time": "2023-11-01T16:15:22.272317Z"
    },
    "collapsed": false
   },
   "outputs": [
    {
     "data": {
      "text/html": [
       "<div>\n",
       "<style scoped>\n",
       "    .dataframe tbody tr th:only-of-type {\n",
       "        vertical-align: middle;\n",
       "    }\n",
       "\n",
       "    .dataframe tbody tr th {\n",
       "        vertical-align: top;\n",
       "    }\n",
       "\n",
       "    .dataframe thead th {\n",
       "        text-align: right;\n",
       "    }\n",
       "</style>\n",
       "<table border=\"1\" class=\"dataframe\">\n",
       "  <thead>\n",
       "    <tr style=\"text-align: right;\">\n",
       "      <th></th>\n",
       "      <th>importance</th>\n",
       "      <th>Extracted_Keywords</th>\n",
       "    </tr>\n",
       "  </thead>\n",
       "  <tbody>\n",
       "    <tr>\n",
       "      <th>0</th>\n",
       "      <td>56.0</td>\n",
       "      <td>[컬리, 소고기, 애정]</td>\n",
       "    </tr>\n",
       "    <tr>\n",
       "      <th>1</th>\n",
       "      <td>6.0</td>\n",
       "      <td>[냉동식품, 분식집, 국민학교]</td>\n",
       "    </tr>\n",
       "    <tr>\n",
       "      <th>2</th>\n",
       "      <td>83.0</td>\n",
       "      <td>[컬리, 키트, 유저]</td>\n",
       "    </tr>\n",
       "    <tr>\n",
       "      <th>3</th>\n",
       "      <td>6.0</td>\n",
       "      <td>[컬리, 어시장, 모듬]</td>\n",
       "    </tr>\n",
       "    <tr>\n",
       "      <th>4</th>\n",
       "      <td>10.0</td>\n",
       "      <td>[충성, 쿠폰, 컬리]</td>\n",
       "    </tr>\n",
       "  </tbody>\n",
       "</table>\n",
       "</div>"
      ],
      "text/plain": [
       "   importance Extracted_Keywords\n",
       "0        56.0      [컬리, 소고기, 애정]\n",
       "1         6.0  [냉동식품, 분식집, 국민학교]\n",
       "2        83.0       [컬리, 키트, 유저]\n",
       "3         6.0      [컬리, 어시장, 모듬]\n",
       "4        10.0       [충성, 쿠폰, 컬리]"
      ]
     },
     "execution_count": 11,
     "metadata": {},
     "output_type": "execute_result"
    }
   ],
   "source": [
    "importance_keyword_df = pd.concat([importance_df,keywords_df],axis=1)\n",
    "importance_keyword_df.head()"
   ]
  },
  {
   "cell_type": "code",
   "execution_count": 15,
   "id": "1894babb7ee1a191",
   "metadata": {
    "collapsed": false
   },
   "outputs": [
    {
     "data": {
      "text/html": [
       "<div>\n",
       "<style scoped>\n",
       "    .dataframe tbody tr th:only-of-type {\n",
       "        vertical-align: middle;\n",
       "    }\n",
       "\n",
       "    .dataframe tbody tr th {\n",
       "        vertical-align: top;\n",
       "    }\n",
       "\n",
       "    .dataframe thead th {\n",
       "        text-align: right;\n",
       "    }\n",
       "</style>\n",
       "<table border=\"1\" class=\"dataframe\">\n",
       "  <thead>\n",
       "    <tr style=\"text-align: right;\">\n",
       "      <th></th>\n",
       "      <th>hashtags</th>\n",
       "      <th>importance</th>\n",
       "      <th>Extracted_Keywords</th>\n",
       "    </tr>\n",
       "  </thead>\n",
       "  <tbody>\n",
       "    <tr>\n",
       "      <th>0</th>\n",
       "      <td>[마켓컬리8주년위크, 마켓컬리, 컬리8주년, 마켓컬리할인, 마켓컬리추천템, 컬리추천...</td>\n",
       "      <td>56.0</td>\n",
       "      <td>[컬리, 소고기, 애정]</td>\n",
       "    </tr>\n",
       "    <tr>\n",
       "      <th>1</th>\n",
       "      <td>[마켓컬리, 마켓컬리, 오늘도컬리, ID_tkdlqlek]</td>\n",
       "      <td>6.0</td>\n",
       "      <td>[냉동식품, 분식집, 국민학교]</td>\n",
       "    </tr>\n",
       "    <tr>\n",
       "      <th>2</th>\n",
       "      <td>[마켓컬리추천템, 윅셔너리뱡뱡면, 뱡뱡면, 금미옥, 금미옥닭볶이, 마켓컬리, 자취생...</td>\n",
       "      <td>83.0</td>\n",
       "      <td>[컬리, 키트, 유저]</td>\n",
       "    </tr>\n",
       "    <tr>\n",
       "      <th>3</th>\n",
       "      <td>[모듬조개탕, 조개탕밀키트, 마켓컬리조개탕, 마켓컬리추천, 땡초넣은모듬조개탕, 땡초...</td>\n",
       "      <td>6.0</td>\n",
       "      <td>[컬리, 어시장, 모듬]</td>\n",
       "    </tr>\n",
       "    <tr>\n",
       "      <th>4</th>\n",
       "      <td>[마켓컬리, 홍루이젠, 도산분식, 포켓몬빵, 대구반할만떡, 와코사각유부, 홍루이젠,...</td>\n",
       "      <td>10.0</td>\n",
       "      <td>[충성, 쿠폰, 컬리]</td>\n",
       "    </tr>\n",
       "  </tbody>\n",
       "</table>\n",
       "</div>"
      ],
      "text/plain": [
       "                                            hashtags  importance  \\\n",
       "0  [마켓컬리8주년위크, 마켓컬리, 컬리8주년, 마켓컬리할인, 마켓컬리추천템, 컬리추천...        56.0   \n",
       "1                   [마켓컬리, 마켓컬리, 오늘도컬리, ID_tkdlqlek]         6.0   \n",
       "2  [마켓컬리추천템, 윅셔너리뱡뱡면, 뱡뱡면, 금미옥, 금미옥닭볶이, 마켓컬리, 자취생...        83.0   \n",
       "3  [모듬조개탕, 조개탕밀키트, 마켓컬리조개탕, 마켓컬리추천, 땡초넣은모듬조개탕, 땡초...         6.0   \n",
       "4  [마켓컬리, 홍루이젠, 도산분식, 포켓몬빵, 대구반할만떡, 와코사각유부, 홍루이젠,...        10.0   \n",
       "\n",
       "  Extracted_Keywords  \n",
       "0      [컬리, 소고기, 애정]  \n",
       "1  [냉동식품, 분식집, 국민학교]  \n",
       "2       [컬리, 키트, 유저]  \n",
       "3      [컬리, 어시장, 모듬]  \n",
       "4       [충성, 쿠폰, 컬리]  "
      ]
     },
     "execution_count": 15,
     "metadata": {},
     "output_type": "execute_result"
    }
   ],
   "source": [
    "keyword_hashtags_importance_df = pd.concat([data['hashtags'],importance_keyword_df], axis=1)\n",
    "keyword_hashtags_importance_df.head()"
   ]
  },
  {
   "cell_type": "code",
   "execution_count": 22,
   "id": "e07479b1",
   "metadata": {},
   "outputs": [],
   "source": [
    "keyword_hashtags_importance_df.to_csv('keyword_hashtags_importance_market.csv', encoding='utf-8', index=False)"
   ]
  },
  {
   "cell_type": "code",
   "execution_count": null,
   "id": "98d0125d",
   "metadata": {},
   "outputs": [],
   "source": []
  }
 ],
 "metadata": {
  "kernelspec": {
   "display_name": "Python 3",
   "language": "python",
   "name": "python3"
  },
  "language_info": {
   "codemirror_mode": {
    "name": "ipython",
    "version": 3
   },
   "file_extension": ".py",
   "mimetype": "text/x-python",
   "name": "python",
   "nbconvert_exporter": "python",
   "pygments_lexer": "ipython3",
   "version": "3.10.11"
  }
 },
 "nbformat": 4,
 "nbformat_minor": 5
}
