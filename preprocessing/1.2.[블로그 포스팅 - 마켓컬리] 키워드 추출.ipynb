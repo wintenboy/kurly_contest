{
 "cells": [
  {
   "cell_type": "code",
   "execution_count": 1,
   "id": "90ace8f5b015fc40",
   "metadata": {
    "ExecuteTime": {
     "end_time": "2023-11-01T16:00:17.743584Z",
     "start_time": "2023-11-01T16:00:15.862918100Z"
    },
    "collapsed": false
   },
   "outputs": [
    {
     "name": "stderr",
     "output_type": "stream",
     "text": [
      "/home/winten/.pyenv/versions/3.10.11/envs/langchain_kurly/lib/python3.10/site-packages/tqdm/auto.py:21: TqdmWarning: IProgress not found. Please update jupyter and ipywidgets. See https://ipywidgets.readthedocs.io/en/stable/user_install.html\n",
      "  from .autonotebook import tqdm as notebook_tqdm\n"
     ]
    },
    {
     "data": {
      "text/plain": [
       "['리뷰 마켓 컬리 8 주년 위 크 역대 급 특 가 추천 상품 포도 계란 소고기 마트 보다 저렴하게 고 미리 레 2023 5 22 12 24 url 복사 이웃 추가 본문 기타 기능 마켓 컬리 8 주년 위 크 역대 급 특 가 추천 상품 포도 계란 소고기 마트 보다 저렴하게 안녕하세요 네이버 인 플루 언 서 고 미리 레 입니다 제 가 너무나 애정 하고 있는 마켓 컬리 가 벌써 8 주년 되었더라고요 일주일 에 2 3일 은 이용 하고 있어서 이제 는 없어서는 안되는 필수 앱 되었답니다 이번 8 주년 맞아 마켓 컬리 에서 준비 한 다양한 역대 급 특 가 할인 상품 들 나왔는데요 거기 에 카드 할인 까지 더해 저렴하게 구입 할 수 있는 정보 알려 드릴게요 컬리 8 th birth week 이벤트 소식 및 기간 이번 마켓 컬리 8 주년 위 크는 단 일주일 간 진행 되는 이벤트 인데 요 5월 22일 월요일 오전 11시 부터 5월 28일 일요일 오전 11시 까지만 이용 하실 수 있어요 반값특 가 상품 은 물론 매일 다른 특 가 상품 만 나볼 수 있는 일일 특 가도 있으니 이번 기회 놓치지 말아야겠죠 밖 매일 식탁 위 에 올라가는 상품 쟁여둘 수록 이득 인 쟁여템 만날 수 있는 장바구니 특가 컬리 가 만든 고 퀄리티 상 컬리 온리 특가 도 있으니 하나 씩 소개 해 드릴게요 마켓 컬리 첫 구매 친구 추천 쿠폰 5 000원 가입 시 입력 하시고 추가 할인 받으세요 쿠폰 코드 market 5000 컬리 첫 구 매 시 10 000원 쿠폰 받으러 가기 아무래도 마켓 컬리 장점 은 다양한 식 자재 상품 들 빠르게 새벽 에 배송 받을 수 있다는 점 죠 그래서 바로바로 필요한 채소 나 먹거리 들 아침 부터 잘 챙겨 먹을 수 있어 특히 바쁜 주부 분들 이나 직장인 분들 필수 앱 되어 버린 같아요 할인 하고 있는 상품 들 도 빠르게 접 할 수 있어 매일 마켓 컬리 앱 살펴보게 되더라고요 마켓 컬리 자체 브랜드 도 저렴하고 퀄리티 도 높아서 자주 사용 하고 있답니다 마켓 컬리 8 주년 세 일 추천 템 이번 마켓 컬리 8 주년 위 크는 역대 급 최대 규모 로 더욱더 다양한 상품 들 특가 로 만나 보실 수 있는데요 제 가 평소 에 이용 하는 제품 들 도 저렴하게 구입 할 수 있어 더욱 반갑더라고요 반값특 가 일 일 특 가 컬리 온리 특 가 이벤트 소식 반값특 가 요즘 날씨 가 더워지면서 채소 과일 들 많이 섭취 하려고 하는데요 안 에 씨 가 들어가 있지 않은 칠레 산 적 포도 는 간편하게 먹을 수 있어 구입 하게 되었어요 특히 이번 반값 특 가로 더욱 저렴하게 구입 할 수 있어서 추천 드리고 싶은 과일 랍니 다 온 가족 분들 먹기 에도 좋은 간식 인 같아요 이번 마켓 컬리 8 주년 위 크 반값 특 가 에서는 평소 에도 잘 사용 하는 선 스틱 더욱 저렴하게 구입 할 수 있었어요 백 탁 없이 투명하게 사용 할 수 있어서 가지 고 다니면서 간편하게 자외선 차단 할 수 있었어요 선 스틱 은 가지 고 다니면 유용하게 사용 할 수 있으니 이번 여름 대비 해서 이번 기회 에 여러 개 쟁 여 놔야겠어요 ㅋㅋ 일 일 특 가 22일 월요일 부터 28일 일요일 까지 매일 특가 로 저렴하게 구매 할 수 있는 상품 들 도 준비 되어 있더라고요 예전 부터 맛있다고 소문난 음식 들 가득 이번 기회 에 저렴하게 구입 해서 먹어 보면 좋겠죠 골라 담기 마켓 컬리 에서만 구입 할 수 있는 소문난 인기 제품 들 이번 컬리 온리 특 가로 골라 담 수 있는 이벤트 도 있는데요 특히 제 가 좋아하는 제품 들 모아 정해진 개수 이상 고르면 평소 보다 최대 32 까지 할인 받을 수 있으니 빨리 구입 해야겠어요 인기 면 요리 는 물론 국탕류 인기 반찬 등 평상시 에 자주 먹는 음식 들 모아 놨으 니 꼭 이용 해 보세요 전 단 특 가 음식 종류 뿐 만 아니라 평상시 유용하게 사용 하는 생 필수품 들 도 이번 마켓 컬리 8 주년 위 크에서 저렴하게 구입 하실 수 있어요 특히 저희 집 에서는 계란 화장지 가 금방 떨어져서 마켓 컬리 에서 자주 구입 하게 되는데 이번 전 단 특 가로 몇 개 더 쟁 여 놔야겠어요 특히 아기 에게 꼭 필요한 팬티 형 기저귀 도 저렴하게 구입 하실 수 있다는 사실 할인 율도 높아서 이번 기회 에 이용 해 보셨으면 좋겠습니다 할인 율 하 면 이번 라라 스윗 아이스크림 빼놓을 수 없지요 특히 저 처럼 단것 좋아하는 다이어터 들 에게 필수 인 칼로리 가 가벼운 아이스크림 11 종 무려 50 에 가까운 가격 으로 구입 할 수 있으니 이번 여름 요 걸 로 버텨야겠어요 5월 뷰티 컬 리페 스타 한정 수량 반값특 가 모든 혜택 8 주년 마켓 컬리 위 크 2 종 플렉스 쿠폰 팩 까지 플렉스 쿠폰 은 7만원 이상 주문 시 최대 2만원 쿠폰 20만원 이상 주문 시 최대 10만원 할인 쿠폰 인데 요 플렉스 상품 주방 가전 뷰티 프리미엄 식품 한정 이니 참고 해주세요 롯데 현대 신한 하나카드 로 결제 시 에는 15 할인 까지 받으실 수 있으니 어떤 카드 사용 하고 있는지 확인 해 봐야겠어요 결제 제휴 이벤트 로 컬리 페이 로 6 마눤 이상 구 매 시 에는 1만원 할인 컬리 카드 발급 받아 이용 하시면 즉시 3만원 할인 에 3만원 쿠폰 팩 증정 3만원 추가 적립 까지 알차게 사용 할 수 있으니 확인 해 주세요 이렇게 다양한 혜택 상품 들 준비 되어 있는 마켓 컬리 8 주년 위 크 이벤트 정말 역대 급 이라 이용 해 보지 않을 수 없겠네요 여러분 들 도 이번 혜택 받으시고 마켓 컬리 함께 편리하고 윤택 한 생활 누리시길 바랄게요 컬리 8 주년 위 크 바로가기 컬리 마켓 컬리 뷰티 컬리 현명한 소비자 위 한 커머스 www kurly com 저작자 명시 필수 영리 적 사용 불가 내용 변경 불가 태그 마켓 컬리 8 주년 위 크 마켓 컬리 컬리 8 주년 마켓 컬리 할인 마켓 컬리 추천 템 컬리 추천 템 마트 장보기 할인 마트 장보기 마켓 컬리 세 일 공감 47 글 에 공감 한 블로거 열고 닫기 댓글 9 글 에 댓글 단 블로거 열고 닫기 블로그 보내기 카페 보내기 keep 보내기 메모 보내기 기타 보내기 펼치기',\n",
       " '식품 리뷰 마켓 컬리 떡볶이 분식집 떡볶이 좋아하신다면 추억 국민학교 떡볶이 드셔 보세요 코 나 맘 2023 5 24 23 38 url 복사 이웃 추가 본문 기타 기능 지인 추천 해 준 마켓 컬리 떡볶이 추억 국민학교 떡볶이 에요 추억 국민학교 떡볶이 는 냉동식품 으로 조리법 엄청 간단해요 떡 어묵 기름 에 한번 볶아서 하면 더 맛있다고 합니다 포장 은 이렇게 플라스틱 통 에 들어가 있어서 좀 아쉬웠어요 그냥 비닐 만 해도 될 같은데 꼭 플라스틱 케이스 까지 했어야 했나 ㅠㅠ 추억 국떡 오 리지 널 구성은 찰 밀떡 빨강 소스 깜 장 소스 튀김 어묵 들어가 있어요 찰떡 은 찬물 에 잠시 담가 두면 쉽게 뗄 수 있어요 한 10분 정도 담가 뒀다가 떼면 돼요 냄비 에 떡 빨강 소스 깜 장 소스 넣는데 깜 장 소스 는 한 번 에 다 넣지 않고 개인 취향 에 맞게 넣었다가 나중 에 좀 더 추가 해 주는 걸 추천 해요 다 넣으면 꽤 달아요 그리고 물 360 ml 종이컵 가득 2 컵 어묵 넣고 끓여 주세요 찰떡 소스 식용유 2 스푼 넣고 센 불 에 2분 정도 볶은 후 물 어묵 넣고 끓이면 더 맛있게 드실 수 있다고 합니다 떡 끓어 오르면 잘 저 어 주고 한 번 더 끓어 오르면 불 끄고 드시면 돼요 저 는 대파 양파 삶은 달걀 라면 추가 로 넣어 줬는데요 소스 가 딱 쫄면 들어가면 맛있을 같아요 요즘 코 나도 떡볶이 먹어서 국떡 매운 맛 말고 오 리지 널 맛 으로 했어요 결국 물 에 씻어서 먹긴 했지만 같이 떡볶이 먹으니 너무 좋네요 밀떡 인데 왜 찰떡 이라고 했는지 알 같아요 떡 정말 쫄깃해 요 그리고 식어도 굳지 않고 두께 가 얇아서 양념 도 잘 배어서 맛있게 먹었어요 달 큰하면서도 칼칼한 딱 추억 분식집 떡볶이 에요 국물 넉넉해서 라면 사리 넣었는데도 부족하지 않았어요 유부초밥 도 찍어서 먹고 다음 에 먹을 땐 김말이 나 튀김 도 같이 준비 해서 먹어야겠어요 떡볶이 소스 남은 게 너무 아깝더라고요 ㅋㅋ 주말 술안주 로 최고 였다 떡볶이 소스 떡 모두 만족스러운 떡볶이 였다 마켓 컬리 떡볶이 추억 국민학교 떡볶이 재구매 해야겠어요 마켓 컬리 냉동식품 저 자주 구입 하는데 아주 만족했어요 추억 맛 분식집 떡볶이 좋아하신다면 한번 드셔 보세요 마켓 컬리 오늘 도 컬리 id _ tkdlqlek 저작자 명시 필수 영리 적 사용 불가 내용 변경 불가 태그 마켓 컬리 오늘 도 컬리 id _ tkdlqlek 공감 4 글 에 공감 한 블로거 열고 닫기 댓글 2 글 에 댓글 단 블로거 열고 닫기 블로그 보내기 카페 보내기 keep 보내기 메모 보내기 기타 보내기 펼치기']"
      ]
     },
     "execution_count": 1,
     "metadata": {},
     "output_type": "execute_result"
    }
   ],
   "source": [
    "from keybert import KeyBERT\n",
    "from kiwipiepy import Kiwi\n",
    "from transformers import BertModel\n",
    "from tqdm import tqdm\n",
    "import pandas as pd\n",
    "model = BertModel.from_pretrained('skt/kobert-base-v1')\n",
    "kw_model = KeyBERT(model)\n",
    "\n",
    "# Load the CSV file again\n",
    "data = pd.read_csv('preprocessed_content_market.csv')\n",
    "\n",
    "# Extracting each row from the 'preprocessed_content' column and storing it in a list\n",
    "content_list = data['preprocessed_content'].tolist()\n",
    "\n",
    "# Displaying the first few items in the list to verify\n",
    "content_list[:2]"
   ]
  },
  {
   "cell_type": "code",
   "execution_count": 3,
   "id": "33d79d4c28b31f44",
   "metadata": {
    "ExecuteTime": {
     "end_time": "2023-11-01T16:10:38.287956700Z",
     "start_time": "2023-11-01T16:06:03.152972200Z"
    },
    "collapsed": false
   },
   "outputs": [
    {
     "name": "stderr",
     "output_type": "stream",
     "text": [
      " 12%|█▏        | 476/3993 [00:34<04:05, 14.33it/s]"
     ]
    }
   ],
   "source": [
    "# Kiwi와 KeyBERT 모델 초기화\n",
    "kiwi = Kiwi()\n",
    "kw_model = KeyBERT()\n",
    "\n",
    "# 명사 추출 함수\n",
    "def noun_extractor(text):\n",
    "    results = []\n",
    "    result = kiwi.analyze(text)\n",
    "    for token, pos, _, _ in result[0][0]:\n",
    "        if len(token) != 1 and (pos.startswith('N') or pos.startswith('SL')):\n",
    "            results.append(token)\n",
    "    return results\n",
    "\n",
    "# 각 행의 텍스트에 대해 명사 추출 및 키워드 추출\n",
    "extracted_keywords = []\n",
    "for text in tqdm(content_list):\n",
    "    # 명사 추출\n",
    "    nouns = noun_extractor(text)\n",
    "    after_kiwi_text = ' '.join(nouns)\n",
    "    \n",
    "    # KeyBERT를 사용한 키워드 추출\n",
    "    preprocessed_content_keywords = kw_model.extract_keywords(after_kiwi_text, keyphrase_ngram_range=(1, 1), stop_words=None, top_n=3)\n",
    "    \n",
    "    # 추출된 키워드 저장\n",
    "    extracted_keywords.append(preprocessed_content_keywords)\n",
    "\n",
    "# 결과 출력\n",
    "print(extracted_keywords[:5])\n"
   ]
  },
  {
   "cell_type": "code",
   "execution_count": null,
   "id": "b98dd761dd5ae713",
   "metadata": {
    "ExecuteTime": {
     "end_time": "2023-11-01T16:15:08.325999700Z",
     "start_time": "2023-11-01T16:15:08.305068800Z"
    },
    "collapsed": false
   },
   "outputs": [
    {
     "data": {
      "text/html": [
       "<div>\n",
       "<style scoped>\n",
       "    .dataframe tbody tr th:only-of-type {\n",
       "        vertical-align: middle;\n",
       "    }\n",
       "\n",
       "    .dataframe tbody tr th {\n",
       "        vertical-align: top;\n",
       "    }\n",
       "\n",
       "    .dataframe thead th {\n",
       "        text-align: right;\n",
       "    }\n",
       "</style>\n",
       "<table border=\"1\" class=\"dataframe\">\n",
       "  <thead>\n",
       "    <tr style=\"text-align: right;\">\n",
       "      <th></th>\n",
       "      <th>Extracted_Keywords</th>\n",
       "    </tr>\n",
       "  </thead>\n",
       "  <tbody>\n",
       "    <tr>\n",
       "      <th>0</th>\n",
       "      <td>[컬리, 소고기, 애정]</td>\n",
       "    </tr>\n",
       "    <tr>\n",
       "      <th>1</th>\n",
       "      <td>[냉동식품, 분식집, 국민학교]</td>\n",
       "    </tr>\n",
       "    <tr>\n",
       "      <th>2</th>\n",
       "      <td>[컬리, 키트, 유저]</td>\n",
       "    </tr>\n",
       "    <tr>\n",
       "      <th>3</th>\n",
       "      <td>[컬리, 어시장, 모듬]</td>\n",
       "    </tr>\n",
       "    <tr>\n",
       "      <th>4</th>\n",
       "      <td>[충성, 쿠폰, 컬리]</td>\n",
       "    </tr>\n",
       "  </tbody>\n",
       "</table>\n",
       "</div>"
      ],
      "text/plain": [
       "  Extracted_Keywords\n",
       "0      [컬리, 소고기, 애정]\n",
       "1  [냉동식품, 분식집, 국민학교]\n",
       "2       [컬리, 키트, 유저]\n",
       "3      [컬리, 어시장, 모듬]\n",
       "4       [충성, 쿠폰, 컬리]"
      ]
     },
     "execution_count": 4,
     "metadata": {},
     "output_type": "execute_result"
    }
   ],
   "source": [
    "# Extracting only the words from the extracted keywords\n",
    "words_only = [[keyword[0] for keyword in keywords_list] for keywords_list in extracted_keywords]\n",
    "\n",
    "# Creating a new DataFrame with the words only\n",
    "keywords_df = pd.DataFrame({\n",
    "    'Extracted_Keywords': words_only\n",
    "})\n",
    "\n",
    "keywords_df.head()"
   ]
  },
  {
   "cell_type": "code",
   "execution_count": null,
   "id": "2863fe43",
   "metadata": {},
   "outputs": [
    {
     "data": {
      "text/html": [
       "<div>\n",
       "<style scoped>\n",
       "    .dataframe tbody tr th:only-of-type {\n",
       "        vertical-align: middle;\n",
       "    }\n",
       "\n",
       "    .dataframe tbody tr th {\n",
       "        vertical-align: top;\n",
       "    }\n",
       "\n",
       "    .dataframe thead th {\n",
       "        text-align: right;\n",
       "    }\n",
       "</style>\n",
       "<table border=\"1\" class=\"dataframe\">\n",
       "  <thead>\n",
       "    <tr style=\"text-align: right;\">\n",
       "      <th></th>\n",
       "      <th>importance</th>\n",
       "    </tr>\n",
       "  </thead>\n",
       "  <tbody>\n",
       "    <tr>\n",
       "      <th>0</th>\n",
       "      <td>56.0</td>\n",
       "    </tr>\n",
       "    <tr>\n",
       "      <th>1</th>\n",
       "      <td>6.0</td>\n",
       "    </tr>\n",
       "    <tr>\n",
       "      <th>2</th>\n",
       "      <td>83.0</td>\n",
       "    </tr>\n",
       "    <tr>\n",
       "      <th>3</th>\n",
       "      <td>6.0</td>\n",
       "    </tr>\n",
       "    <tr>\n",
       "      <th>4</th>\n",
       "      <td>10.0</td>\n",
       "    </tr>\n",
       "  </tbody>\n",
       "</table>\n",
       "</div>"
      ],
      "text/plain": [
       "   importance\n",
       "0        56.0\n",
       "1         6.0\n",
       "2        83.0\n",
       "3         6.0\n",
       "4        10.0"
      ]
     },
     "execution_count": 10,
     "metadata": {},
     "output_type": "execute_result"
    }
   ],
   "source": [
    "importance_df = pd.DataFrame()\n",
    "importance_df['importance'] = data['likes'].values + data['comments'].values\n",
    "importance_keyword_df = pd.concat([importance_df,keywords_df],axis=1)\n",
    "datetime_keyword_hashtags_importance_df = pd.concat([data[['datetime','hashtags']],importance_keyword_df], axis=1)\n",
    "datetime_keyword_hashtags_importance_df.head()"
   ]
  },
  {
   "cell_type": "code",
   "execution_count": 22,
   "id": "e07479b1",
   "metadata": {},
   "outputs": [],
   "source": [
    "datetime_keyword_hashtags_importance_df.to_csv('datetime_keyword_hashtags_importance_market.csv', encoding='utf-8', index=False)"
   ]
  }
 ],
 "metadata": {
  "kernelspec": {
   "display_name": "Python 3",
   "language": "python",
   "name": "python3"
  },
  "language_info": {
   "codemirror_mode": {
    "name": "ipython",
    "version": 3
   },
   "file_extension": ".py",
   "mimetype": "text/x-python",
   "name": "python",
   "nbconvert_exporter": "python",
   "pygments_lexer": "ipython3",
   "version": "3.10.11"
  }
 },
 "nbformat": 4,
 "nbformat_minor": 5
}
